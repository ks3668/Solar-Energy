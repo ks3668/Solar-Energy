{
  "nbformat": 4,
  "nbformat_minor": 0,
  "metadata": {
    "colab": {
      "provenance": []
    },
    "kernelspec": {
      "name": "ir",
      "display_name": "R"
    },
    "language_info": {
      "name": "R"
    }
  },
  "cells": [
    {
      "cell_type": "markdown",
      "source": [
        "# Datasets"
      ],
      "metadata": {
        "id": "LK4Nea5BUqy0"
      }
    },
    {
      "cell_type": "markdown",
      "source": [
        "## Survey Dataset: "
      ],
      "metadata": {
        "id": "-r5heIoHVHXt"
      }
    },
    {
      "cell_type": "code",
      "source": [
        "survey_data = read.csv(\"https://www.dropbox.com/s/4yd6qyo2vqt4j15/Survey.csv?dl=1\")\n",
        "head(survey_data) "
      ],
      "metadata": {
        "id": "PLRF8vhbZIB0",
        "colab": {
          "base_uri": "https://localhost:8080/",
          "height": 286
        },
        "outputId": "4028ba1a-cf5b-4857-c3ff-3f2a27ab355d"
      },
      "execution_count": null,
      "outputs": [
        {
          "output_type": "display_data",
          "data": {
            "text/html": [
              "<table class=\"dataframe\">\n",
              "<caption>A data.frame: 6 × 10</caption>\n",
              "<thead>\n",
              "\t<tr><th></th><th scope=col>SURVEY</th><th scope=col>CASE_ID</th><th scope=col>STATE</th><th scope=col>SQFT_BINNED</th><th scope=col>EDUC_BINNED</th><th scope=col>INCOME_BINNED</th><th scope=col>PN2</th><th scope=col>STANCE</th><th scope=col>INFLNC_PPLTALK</th><th scope=col>BUY_LEASE</th></tr>\n",
              "\t<tr><th></th><th scope=col>&lt;chr&gt;</th><th scope=col>&lt;int&gt;</th><th scope=col>&lt;int&gt;</th><th scope=col>&lt;int&gt;</th><th scope=col>&lt;int&gt;</th><th scope=col>&lt;int&gt;</th><th scope=col>&lt;int&gt;</th><th scope=col>&lt;int&gt;</th><th scope=col>&lt;int&gt;</th><th scope=col>&lt;int&gt;</th></tr>\n",
              "</thead>\n",
              "<tbody>\n",
              "\t<tr><th scope=row>1</th><td>ADOPTER</td><td>1342</td><td>4</td><td> 1</td><td> 4</td><td> 5</td><td>4</td><td> 2</td><td>4</td><td> 2</td></tr>\n",
              "\t<tr><th scope=row>2</th><td>ADOPTER</td><td>1343</td><td>4</td><td> 2</td><td> 2</td><td> 4</td><td>4</td><td> 5</td><td>3</td><td> 2</td></tr>\n",
              "\t<tr><th scope=row>3</th><td>ADOPTER</td><td>1344</td><td>4</td><td> 4</td><td>99</td><td>99</td><td>4</td><td>90</td><td>3</td><td> 1</td></tr>\n",
              "\t<tr><th scope=row>4</th><td>ADOPTER</td><td>1345</td><td>4</td><td>NA</td><td> 2</td><td> 3</td><td>1</td><td> 5</td><td>2</td><td>99</td></tr>\n",
              "\t<tr><th scope=row>5</th><td>ADOPTER</td><td>1346</td><td>4</td><td> 4</td><td> 2</td><td> 1</td><td>3</td><td> 3</td><td>2</td><td> 2</td></tr>\n",
              "\t<tr><th scope=row>6</th><td>ADOPTER</td><td>1347</td><td>4</td><td> 2</td><td> 3</td><td>95</td><td>5</td><td> 3</td><td>4</td><td> 1</td></tr>\n",
              "</tbody>\n",
              "</table>\n"
            ],
            "text/markdown": "\nA data.frame: 6 × 10\n\n| <!--/--> | SURVEY &lt;chr&gt; | CASE_ID &lt;int&gt; | STATE &lt;int&gt; | SQFT_BINNED &lt;int&gt; | EDUC_BINNED &lt;int&gt; | INCOME_BINNED &lt;int&gt; | PN2 &lt;int&gt; | STANCE &lt;int&gt; | INFLNC_PPLTALK &lt;int&gt; | BUY_LEASE &lt;int&gt; |\n|---|---|---|---|---|---|---|---|---|---|---|\n| 1 | ADOPTER | 1342 | 4 |  1 |  4 |  5 | 4 |  2 | 4 |  2 |\n| 2 | ADOPTER | 1343 | 4 |  2 |  2 |  4 | 4 |  5 | 3 |  2 |\n| 3 | ADOPTER | 1344 | 4 |  4 | 99 | 99 | 4 | 90 | 3 |  1 |\n| 4 | ADOPTER | 1345 | 4 | NA |  2 |  3 | 1 |  5 | 2 | 99 |\n| 5 | ADOPTER | 1346 | 4 |  4 |  2 |  1 | 3 |  3 | 2 |  2 |\n| 6 | ADOPTER | 1347 | 4 |  2 |  3 | 95 | 5 |  3 | 4 |  1 |\n\n",
            "text/latex": "A data.frame: 6 × 10\n\\begin{tabular}{r|llllllllll}\n  & SURVEY & CASE\\_ID & STATE & SQFT\\_BINNED & EDUC\\_BINNED & INCOME\\_BINNED & PN2 & STANCE & INFLNC\\_PPLTALK & BUY\\_LEASE\\\\\n  & <chr> & <int> & <int> & <int> & <int> & <int> & <int> & <int> & <int> & <int>\\\\\n\\hline\n\t1 & ADOPTER & 1342 & 4 &  1 &  4 &  5 & 4 &  2 & 4 &  2\\\\\n\t2 & ADOPTER & 1343 & 4 &  2 &  2 &  4 & 4 &  5 & 3 &  2\\\\\n\t3 & ADOPTER & 1344 & 4 &  4 & 99 & 99 & 4 & 90 & 3 &  1\\\\\n\t4 & ADOPTER & 1345 & 4 & NA &  2 &  3 & 1 &  5 & 2 & 99\\\\\n\t5 & ADOPTER & 1346 & 4 &  4 &  2 &  1 & 3 &  3 & 2 &  2\\\\\n\t6 & ADOPTER & 1347 & 4 &  2 &  3 & 95 & 5 &  3 & 4 &  1\\\\\n\\end{tabular}\n",
            "text/plain": [
              "  SURVEY  CASE_ID STATE SQFT_BINNED EDUC_BINNED INCOME_BINNED PN2 STANCE\n",
              "1 ADOPTER 1342    4      1           4           5            4    2    \n",
              "2 ADOPTER 1343    4      2           2           4            4    5    \n",
              "3 ADOPTER 1344    4      4          99          99            4   90    \n",
              "4 ADOPTER 1345    4     NA           2           3            1    5    \n",
              "5 ADOPTER 1346    4      4           2           1            3    3    \n",
              "6 ADOPTER 1347    4      2           3          95            5    3    \n",
              "  INFLNC_PPLTALK BUY_LEASE\n",
              "1 4               2       \n",
              "2 3               2       \n",
              "3 3               1       \n",
              "4 2              99       \n",
              "5 2               2       \n",
              "6 4               1       "
            ]
          },
          "metadata": {}
        }
      ]
    },
    {
      "cell_type": "code",
      "source": [
        "# Adding dummy variable for adoption for the models\n",
        "survey_data <- cbind(survey_data, Has_Solar=0)\n",
        "survey_data$Has_Solar <- ifelse(survey_data$SURVEY == \"ADOPTER\", 1,0)\n",
        "head(survey_data)"
      ],
      "metadata": {
        "colab": {
          "base_uri": "https://localhost:8080/",
          "height": 286
        },
        "id": "Fj3mEAdwRPiu",
        "outputId": "99aacb09-df8f-4a3e-f0a3-b34c3b912197"
      },
      "execution_count": null,
      "outputs": [
        {
          "output_type": "display_data",
          "data": {
            "text/html": [
              "<table class=\"dataframe\">\n",
              "<caption>A data.frame: 6 × 11</caption>\n",
              "<thead>\n",
              "\t<tr><th></th><th scope=col>SURVEY</th><th scope=col>CASE_ID</th><th scope=col>STATE</th><th scope=col>SQFT_BINNED</th><th scope=col>EDUC_BINNED</th><th scope=col>INCOME_BINNED</th><th scope=col>PN2</th><th scope=col>STANCE</th><th scope=col>INFLNC_PPLTALK</th><th scope=col>BUY_LEASE</th><th scope=col>Has_Solar</th></tr>\n",
              "\t<tr><th></th><th scope=col>&lt;chr&gt;</th><th scope=col>&lt;int&gt;</th><th scope=col>&lt;int&gt;</th><th scope=col>&lt;int&gt;</th><th scope=col>&lt;int&gt;</th><th scope=col>&lt;int&gt;</th><th scope=col>&lt;int&gt;</th><th scope=col>&lt;int&gt;</th><th scope=col>&lt;int&gt;</th><th scope=col>&lt;int&gt;</th><th scope=col>&lt;dbl&gt;</th></tr>\n",
              "</thead>\n",
              "<tbody>\n",
              "\t<tr><th scope=row>1</th><td>ADOPTER</td><td>1342</td><td>4</td><td> 1</td><td> 4</td><td> 5</td><td>4</td><td> 2</td><td>4</td><td> 2</td><td>1</td></tr>\n",
              "\t<tr><th scope=row>2</th><td>ADOPTER</td><td>1343</td><td>4</td><td> 2</td><td> 2</td><td> 4</td><td>4</td><td> 5</td><td>3</td><td> 2</td><td>1</td></tr>\n",
              "\t<tr><th scope=row>3</th><td>ADOPTER</td><td>1344</td><td>4</td><td> 4</td><td>99</td><td>99</td><td>4</td><td>90</td><td>3</td><td> 1</td><td>1</td></tr>\n",
              "\t<tr><th scope=row>4</th><td>ADOPTER</td><td>1345</td><td>4</td><td>NA</td><td> 2</td><td> 3</td><td>1</td><td> 5</td><td>2</td><td>99</td><td>1</td></tr>\n",
              "\t<tr><th scope=row>5</th><td>ADOPTER</td><td>1346</td><td>4</td><td> 4</td><td> 2</td><td> 1</td><td>3</td><td> 3</td><td>2</td><td> 2</td><td>1</td></tr>\n",
              "\t<tr><th scope=row>6</th><td>ADOPTER</td><td>1347</td><td>4</td><td> 2</td><td> 3</td><td>95</td><td>5</td><td> 3</td><td>4</td><td> 1</td><td>1</td></tr>\n",
              "</tbody>\n",
              "</table>\n"
            ],
            "text/markdown": "\nA data.frame: 6 × 11\n\n| <!--/--> | SURVEY &lt;chr&gt; | CASE_ID &lt;int&gt; | STATE &lt;int&gt; | SQFT_BINNED &lt;int&gt; | EDUC_BINNED &lt;int&gt; | INCOME_BINNED &lt;int&gt; | PN2 &lt;int&gt; | STANCE &lt;int&gt; | INFLNC_PPLTALK &lt;int&gt; | BUY_LEASE &lt;int&gt; | Has_Solar &lt;dbl&gt; |\n|---|---|---|---|---|---|---|---|---|---|---|---|\n| 1 | ADOPTER | 1342 | 4 |  1 |  4 |  5 | 4 |  2 | 4 |  2 | 1 |\n| 2 | ADOPTER | 1343 | 4 |  2 |  2 |  4 | 4 |  5 | 3 |  2 | 1 |\n| 3 | ADOPTER | 1344 | 4 |  4 | 99 | 99 | 4 | 90 | 3 |  1 | 1 |\n| 4 | ADOPTER | 1345 | 4 | NA |  2 |  3 | 1 |  5 | 2 | 99 | 1 |\n| 5 | ADOPTER | 1346 | 4 |  4 |  2 |  1 | 3 |  3 | 2 |  2 | 1 |\n| 6 | ADOPTER | 1347 | 4 |  2 |  3 | 95 | 5 |  3 | 4 |  1 | 1 |\n\n",
            "text/latex": "A data.frame: 6 × 11\n\\begin{tabular}{r|lllllllllll}\n  & SURVEY & CASE\\_ID & STATE & SQFT\\_BINNED & EDUC\\_BINNED & INCOME\\_BINNED & PN2 & STANCE & INFLNC\\_PPLTALK & BUY\\_LEASE & Has\\_Solar\\\\\n  & <chr> & <int> & <int> & <int> & <int> & <int> & <int> & <int> & <int> & <int> & <dbl>\\\\\n\\hline\n\t1 & ADOPTER & 1342 & 4 &  1 &  4 &  5 & 4 &  2 & 4 &  2 & 1\\\\\n\t2 & ADOPTER & 1343 & 4 &  2 &  2 &  4 & 4 &  5 & 3 &  2 & 1\\\\\n\t3 & ADOPTER & 1344 & 4 &  4 & 99 & 99 & 4 & 90 & 3 &  1 & 1\\\\\n\t4 & ADOPTER & 1345 & 4 & NA &  2 &  3 & 1 &  5 & 2 & 99 & 1\\\\\n\t5 & ADOPTER & 1346 & 4 &  4 &  2 &  1 & 3 &  3 & 2 &  2 & 1\\\\\n\t6 & ADOPTER & 1347 & 4 &  2 &  3 & 95 & 5 &  3 & 4 &  1 & 1\\\\\n\\end{tabular}\n",
            "text/plain": [
              "  SURVEY  CASE_ID STATE SQFT_BINNED EDUC_BINNED INCOME_BINNED PN2 STANCE\n",
              "1 ADOPTER 1342    4      1           4           5            4    2    \n",
              "2 ADOPTER 1343    4      2           2           4            4    5    \n",
              "3 ADOPTER 1344    4      4          99          99            4   90    \n",
              "4 ADOPTER 1345    4     NA           2           3            1    5    \n",
              "5 ADOPTER 1346    4      4           2           1            3    3    \n",
              "6 ADOPTER 1347    4      2           3          95            5    3    \n",
              "  INFLNC_PPLTALK BUY_LEASE Has_Solar\n",
              "1 4               2        1        \n",
              "2 3               2        1        \n",
              "3 3               1        1        \n",
              "4 2              99        1        \n",
              "5 2               2        1        \n",
              "6 4               1        1        "
            ]
          },
          "metadata": {}
        }
      ]
    },
    {
      "cell_type": "code",
      "source": [
        "lapply(survey_data[c('Has_Solar', 'SURVEY', 'STATE', 'BUY_LEASE', 'INFLNC_PPLTALK', 'STANCE', 'PN2', 'INCOME_BINNED', 'EDUC_BINNED', 'SQFT_BINNED')], unique)"
      ],
      "metadata": {
        "colab": {
          "base_uri": "https://localhost:8080/",
          "height": 392
        },
        "id": "ue2PjTV2a2iM",
        "outputId": "feac72f1-27f6-422a-ed97-647d53deacd2"
      },
      "execution_count": null,
      "outputs": [
        {
          "output_type": "display_data",
          "data": {
            "text/html": [
              "<dl>\n",
              "\t<dt>$Has_Solar</dt>\n",
              "\t\t<dd><style>\n",
              ".list-inline {list-style: none; margin:0; padding: 0}\n",
              ".list-inline>li {display: inline-block}\n",
              ".list-inline>li:not(:last-child)::after {content: \"\\00b7\"; padding: 0 .5ex}\n",
              "</style>\n",
              "<ol class=list-inline><li>1</li><li>0</li></ol>\n",
              "</dd>\n",
              "\t<dt>$SURVEY</dt>\n",
              "\t\t<dd><style>\n",
              ".list-inline {list-style: none; margin:0; padding: 0}\n",
              ".list-inline>li {display: inline-block}\n",
              ".list-inline>li:not(:last-child)::after {content: \"\\00b7\"; padding: 0 .5ex}\n",
              "</style>\n",
              "<ol class=list-inline><li>'ADOPTER'</li><li>'CONSIDERER'</li><li>'GPS'</li></ol>\n",
              "</dd>\n",
              "\t<dt>$STATE</dt>\n",
              "\t\t<dd><style>\n",
              ".list-inline {list-style: none; margin:0; padding: 0}\n",
              ".list-inline>li {display: inline-block}\n",
              ".list-inline>li:not(:last-child)::after {content: \"\\00b7\"; padding: 0 .5ex}\n",
              "</style>\n",
              "<ol class=list-inline><li>4</li><li>2</li><li>1</li><li>3</li></ol>\n",
              "</dd>\n",
              "\t<dt>$BUY_LEASE</dt>\n",
              "\t\t<dd><style>\n",
              ".list-inline {list-style: none; margin:0; padding: 0}\n",
              ".list-inline>li {display: inline-block}\n",
              ".list-inline>li:not(:last-child)::after {content: \"\\00b7\"; padding: 0 .5ex}\n",
              "</style>\n",
              "<ol class=list-inline><li>2</li><li>1</li><li>99</li><li>&lt;NA&gt;</li></ol>\n",
              "</dd>\n",
              "\t<dt>$INFLNC_PPLTALK</dt>\n",
              "\t\t<dd><style>\n",
              ".list-inline {list-style: none; margin:0; padding: 0}\n",
              ".list-inline>li {display: inline-block}\n",
              ".list-inline>li:not(:last-child)::after {content: \"\\00b7\"; padding: 0 .5ex}\n",
              "</style>\n",
              "<ol class=list-inline><li>4</li><li>3</li><li>2</li><li>1</li><li>99</li><li>5</li><li>&lt;NA&gt;</li></ol>\n",
              "</dd>\n",
              "\t<dt>$STANCE</dt>\n",
              "\t\t<dd><style>\n",
              ".list-inline {list-style: none; margin:0; padding: 0}\n",
              ".list-inline>li {display: inline-block}\n",
              ".list-inline>li:not(:last-child)::after {content: \"\\00b7\"; padding: 0 .5ex}\n",
              "</style>\n",
              "<ol class=list-inline><li>2</li><li>5</li><li>90</li><li>3</li><li>1</li><li>4</li><li>97</li><li>99</li></ol>\n",
              "</dd>\n",
              "\t<dt>$PN2</dt>\n",
              "\t\t<dd><style>\n",
              ".list-inline {list-style: none; margin:0; padding: 0}\n",
              ".list-inline>li {display: inline-block}\n",
              ".list-inline>li:not(:last-child)::after {content: \"\\00b7\"; padding: 0 .5ex}\n",
              "</style>\n",
              "<ol class=list-inline><li>4</li><li>1</li><li>3</li><li>5</li><li>2</li><li>98</li><li>99</li><li>&lt;NA&gt;</li></ol>\n",
              "</dd>\n",
              "\t<dt>$INCOME_BINNED</dt>\n",
              "\t\t<dd><style>\n",
              ".list-inline {list-style: none; margin:0; padding: 0}\n",
              ".list-inline>li {display: inline-block}\n",
              ".list-inline>li:not(:last-child)::after {content: \"\\00b7\"; padding: 0 .5ex}\n",
              "</style>\n",
              "<ol class=list-inline><li>5</li><li>4</li><li>99</li><li>3</li><li>1</li><li>95</li><li>2</li><li>&lt;NA&gt;</li></ol>\n",
              "</dd>\n",
              "\t<dt>$EDUC_BINNED</dt>\n",
              "\t\t<dd><style>\n",
              ".list-inline {list-style: none; margin:0; padding: 0}\n",
              ".list-inline>li {display: inline-block}\n",
              ".list-inline>li:not(:last-child)::after {content: \"\\00b7\"; padding: 0 .5ex}\n",
              "</style>\n",
              "<ol class=list-inline><li>4</li><li>2</li><li>99</li><li>3</li><li>&lt;NA&gt;</li><li>1</li></ol>\n",
              "</dd>\n",
              "\t<dt>$SQFT_BINNED</dt>\n",
              "\t\t<dd><style>\n",
              ".list-inline {list-style: none; margin:0; padding: 0}\n",
              ".list-inline>li {display: inline-block}\n",
              ".list-inline>li:not(:last-child)::after {content: \"\\00b7\"; padding: 0 .5ex}\n",
              "</style>\n",
              "<ol class=list-inline><li>1</li><li>2</li><li>4</li><li>&lt;NA&gt;</li><li>3</li></ol>\n",
              "</dd>\n",
              "</dl>\n"
            ],
            "text/markdown": "$Has_Solar\n:   1. 1\n2. 0\n\n\n\n$SURVEY\n:   1. 'ADOPTER'\n2. 'CONSIDERER'\n3. 'GPS'\n\n\n\n$STATE\n:   1. 4\n2. 2\n3. 1\n4. 3\n\n\n\n$BUY_LEASE\n:   1. 2\n2. 1\n3. 99\n4. &lt;NA&gt;\n\n\n\n$INFLNC_PPLTALK\n:   1. 4\n2. 3\n3. 2\n4. 1\n5. 99\n6. 5\n7. &lt;NA&gt;\n\n\n\n$STANCE\n:   1. 2\n2. 5\n3. 90\n4. 3\n5. 1\n6. 4\n7. 97\n8. 99\n\n\n\n$PN2\n:   1. 4\n2. 1\n3. 3\n4. 5\n5. 2\n6. 98\n7. 99\n8. &lt;NA&gt;\n\n\n\n$INCOME_BINNED\n:   1. 5\n2. 4\n3. 99\n4. 3\n5. 1\n6. 95\n7. 2\n8. &lt;NA&gt;\n\n\n\n$EDUC_BINNED\n:   1. 4\n2. 2\n3. 99\n4. 3\n5. &lt;NA&gt;\n6. 1\n\n\n\n$SQFT_BINNED\n:   1. 1\n2. 2\n3. 4\n4. &lt;NA&gt;\n5. 3\n\n\n\n\n\n",
            "text/latex": "\\begin{description}\n\\item[\\$Has\\_Solar] \\begin{enumerate*}\n\\item 1\n\\item 0\n\\end{enumerate*}\n\n\\item[\\$SURVEY] \\begin{enumerate*}\n\\item 'ADOPTER'\n\\item 'CONSIDERER'\n\\item 'GPS'\n\\end{enumerate*}\n\n\\item[\\$STATE] \\begin{enumerate*}\n\\item 4\n\\item 2\n\\item 1\n\\item 3\n\\end{enumerate*}\n\n\\item[\\$BUY\\_LEASE] \\begin{enumerate*}\n\\item 2\n\\item 1\n\\item 99\n\\item <NA>\n\\end{enumerate*}\n\n\\item[\\$INFLNC\\_PPLTALK] \\begin{enumerate*}\n\\item 4\n\\item 3\n\\item 2\n\\item 1\n\\item 99\n\\item 5\n\\item <NA>\n\\end{enumerate*}\n\n\\item[\\$STANCE] \\begin{enumerate*}\n\\item 2\n\\item 5\n\\item 90\n\\item 3\n\\item 1\n\\item 4\n\\item 97\n\\item 99\n\\end{enumerate*}\n\n\\item[\\$PN2] \\begin{enumerate*}\n\\item 4\n\\item 1\n\\item 3\n\\item 5\n\\item 2\n\\item 98\n\\item 99\n\\item <NA>\n\\end{enumerate*}\n\n\\item[\\$INCOME\\_BINNED] \\begin{enumerate*}\n\\item 5\n\\item 4\n\\item 99\n\\item 3\n\\item 1\n\\item 95\n\\item 2\n\\item <NA>\n\\end{enumerate*}\n\n\\item[\\$EDUC\\_BINNED] \\begin{enumerate*}\n\\item 4\n\\item 2\n\\item 99\n\\item 3\n\\item <NA>\n\\item 1\n\\end{enumerate*}\n\n\\item[\\$SQFT\\_BINNED] \\begin{enumerate*}\n\\item 1\n\\item 2\n\\item 4\n\\item <NA>\n\\item 3\n\\end{enumerate*}\n\n\\end{description}\n",
            "text/plain": [
              "$Has_Solar\n",
              "[1] 1 0\n",
              "\n",
              "$SURVEY\n",
              "[1] \"ADOPTER\"    \"CONSIDERER\" \"GPS\"       \n",
              "\n",
              "$STATE\n",
              "[1] 4 2 1 3\n",
              "\n",
              "$BUY_LEASE\n",
              "[1]  2  1 99 NA\n",
              "\n",
              "$INFLNC_PPLTALK\n",
              "[1]  4  3  2  1 99  5 NA\n",
              "\n",
              "$STANCE\n",
              "[1]  2  5 90  3  1  4 97 99\n",
              "\n",
              "$PN2\n",
              "[1]  4  1  3  5  2 98 99 NA\n",
              "\n",
              "$INCOME_BINNED\n",
              "[1]  5  4 99  3  1 95  2 NA\n",
              "\n",
              "$EDUC_BINNED\n",
              "[1]  4  2 99  3 NA  1\n",
              "\n",
              "$SQFT_BINNED\n",
              "[1]  1  2  4 NA  3\n"
            ]
          },
          "metadata": {}
        }
      ]
    },
    {
      "cell_type": "markdown",
      "source": [
        "#### Create 3 versions of survey dataset: 1 with missing values set to NA, 1 with missing values replaced with mode of column, 1 with missing values set to 99"
      ],
      "metadata": {
        "id": "fECWk94al-JT"
      }
    },
    {
      "cell_type": "code",
      "source": [
        "# Replace the unknown values with N/A\n",
        "survey_data$BUY_LEASE <- ifelse(survey_data$BUY_LEASE == 99, NA, survey_data$BUY_LEASE)\n",
        "survey_data$INFLNC_PPLTALK <- ifelse(survey_data$INFLNC_PPLTALK == 99, NA, survey_data$INFLNC_PPLTALK)\n",
        "survey_data$STANCE <- ifelse(survey_data$STANCE >=90, NA, survey_data$STANCE)\n",
        "survey_data$PN2 <- ifelse(survey_data$PN2 >= 98, NA, survey_data$PN2)\n",
        "survey_data$INCOME_BINNED <- ifelse(survey_data$INCOME_BINNED >= 95, NA, survey_data$INCOME_BINNED)\n",
        "survey_data$EDUC_BINNED <- ifelse(survey_data$EDUC_BINNED == 99, NA, survey_data$EDUC_BINNED) # This one is for when all the 99s are replaced with NA\n",
        "survey_data$SQFT_BINNED <- ifelse(survey_data$SQFT_BINNED > 5, NA, survey_data$SQFT_BINNED)\n",
        "\n",
        "lapply(survey_data[c('Has_Solar', 'SURVEY', 'STATE', 'BUY_LEASE', 'INFLNC_PPLTALK', 'STANCE', 'PN2', 'INCOME_BINNED', 'EDUC_BINNED', 'SQFT_BINNED')], unique)"
      ],
      "metadata": {
        "colab": {
          "base_uri": "https://localhost:8080/",
          "height": 392
        },
        "id": "poSM-PPpa316",
        "outputId": "deb8e7b5-2293-42b2-ccdb-16a234e4b700"
      },
      "execution_count": null,
      "outputs": [
        {
          "output_type": "display_data",
          "data": {
            "text/html": [
              "<dl>\n",
              "\t<dt>$Has_Solar</dt>\n",
              "\t\t<dd><style>\n",
              ".list-inline {list-style: none; margin:0; padding: 0}\n",
              ".list-inline>li {display: inline-block}\n",
              ".list-inline>li:not(:last-child)::after {content: \"\\00b7\"; padding: 0 .5ex}\n",
              "</style>\n",
              "<ol class=list-inline><li>1</li><li>0</li></ol>\n",
              "</dd>\n",
              "\t<dt>$SURVEY</dt>\n",
              "\t\t<dd><style>\n",
              ".list-inline {list-style: none; margin:0; padding: 0}\n",
              ".list-inline>li {display: inline-block}\n",
              ".list-inline>li:not(:last-child)::after {content: \"\\00b7\"; padding: 0 .5ex}\n",
              "</style>\n",
              "<ol class=list-inline><li>'ADOPTER'</li><li>'CONSIDERER'</li><li>'GPS'</li></ol>\n",
              "</dd>\n",
              "\t<dt>$STATE</dt>\n",
              "\t\t<dd><style>\n",
              ".list-inline {list-style: none; margin:0; padding: 0}\n",
              ".list-inline>li {display: inline-block}\n",
              ".list-inline>li:not(:last-child)::after {content: \"\\00b7\"; padding: 0 .5ex}\n",
              "</style>\n",
              "<ol class=list-inline><li>4</li><li>2</li><li>1</li><li>3</li></ol>\n",
              "</dd>\n",
              "\t<dt>$BUY_LEASE</dt>\n",
              "\t\t<dd><style>\n",
              ".list-inline {list-style: none; margin:0; padding: 0}\n",
              ".list-inline>li {display: inline-block}\n",
              ".list-inline>li:not(:last-child)::after {content: \"\\00b7\"; padding: 0 .5ex}\n",
              "</style>\n",
              "<ol class=list-inline><li>2</li><li>1</li><li>&lt;NA&gt;</li></ol>\n",
              "</dd>\n",
              "\t<dt>$INFLNC_PPLTALK</dt>\n",
              "\t\t<dd><style>\n",
              ".list-inline {list-style: none; margin:0; padding: 0}\n",
              ".list-inline>li {display: inline-block}\n",
              ".list-inline>li:not(:last-child)::after {content: \"\\00b7\"; padding: 0 .5ex}\n",
              "</style>\n",
              "<ol class=list-inline><li>4</li><li>3</li><li>2</li><li>1</li><li>&lt;NA&gt;</li><li>5</li></ol>\n",
              "</dd>\n",
              "\t<dt>$STANCE</dt>\n",
              "\t\t<dd><style>\n",
              ".list-inline {list-style: none; margin:0; padding: 0}\n",
              ".list-inline>li {display: inline-block}\n",
              ".list-inline>li:not(:last-child)::after {content: \"\\00b7\"; padding: 0 .5ex}\n",
              "</style>\n",
              "<ol class=list-inline><li>2</li><li>5</li><li>&lt;NA&gt;</li><li>3</li><li>1</li><li>4</li></ol>\n",
              "</dd>\n",
              "\t<dt>$PN2</dt>\n",
              "\t\t<dd><style>\n",
              ".list-inline {list-style: none; margin:0; padding: 0}\n",
              ".list-inline>li {display: inline-block}\n",
              ".list-inline>li:not(:last-child)::after {content: \"\\00b7\"; padding: 0 .5ex}\n",
              "</style>\n",
              "<ol class=list-inline><li>4</li><li>1</li><li>3</li><li>5</li><li>2</li><li>&lt;NA&gt;</li></ol>\n",
              "</dd>\n",
              "\t<dt>$INCOME_BINNED</dt>\n",
              "\t\t<dd><style>\n",
              ".list-inline {list-style: none; margin:0; padding: 0}\n",
              ".list-inline>li {display: inline-block}\n",
              ".list-inline>li:not(:last-child)::after {content: \"\\00b7\"; padding: 0 .5ex}\n",
              "</style>\n",
              "<ol class=list-inline><li>5</li><li>4</li><li>&lt;NA&gt;</li><li>3</li><li>1</li><li>2</li></ol>\n",
              "</dd>\n",
              "\t<dt>$EDUC_BINNED</dt>\n",
              "\t\t<dd><style>\n",
              ".list-inline {list-style: none; margin:0; padding: 0}\n",
              ".list-inline>li {display: inline-block}\n",
              ".list-inline>li:not(:last-child)::after {content: \"\\00b7\"; padding: 0 .5ex}\n",
              "</style>\n",
              "<ol class=list-inline><li>4</li><li>2</li><li>&lt;NA&gt;</li><li>3</li><li>1</li></ol>\n",
              "</dd>\n",
              "\t<dt>$SQFT_BINNED</dt>\n",
              "\t\t<dd><style>\n",
              ".list-inline {list-style: none; margin:0; padding: 0}\n",
              ".list-inline>li {display: inline-block}\n",
              ".list-inline>li:not(:last-child)::after {content: \"\\00b7\"; padding: 0 .5ex}\n",
              "</style>\n",
              "<ol class=list-inline><li>1</li><li>2</li><li>4</li><li>&lt;NA&gt;</li><li>3</li></ol>\n",
              "</dd>\n",
              "</dl>\n"
            ],
            "text/markdown": "$Has_Solar\n:   1. 1\n2. 0\n\n\n\n$SURVEY\n:   1. 'ADOPTER'\n2. 'CONSIDERER'\n3. 'GPS'\n\n\n\n$STATE\n:   1. 4\n2. 2\n3. 1\n4. 3\n\n\n\n$BUY_LEASE\n:   1. 2\n2. 1\n3. &lt;NA&gt;\n\n\n\n$INFLNC_PPLTALK\n:   1. 4\n2. 3\n3. 2\n4. 1\n5. &lt;NA&gt;\n6. 5\n\n\n\n$STANCE\n:   1. 2\n2. 5\n3. &lt;NA&gt;\n4. 3\n5. 1\n6. 4\n\n\n\n$PN2\n:   1. 4\n2. 1\n3. 3\n4. 5\n5. 2\n6. &lt;NA&gt;\n\n\n\n$INCOME_BINNED\n:   1. 5\n2. 4\n3. &lt;NA&gt;\n4. 3\n5. 1\n6. 2\n\n\n\n$EDUC_BINNED\n:   1. 4\n2. 2\n3. &lt;NA&gt;\n4. 3\n5. 1\n\n\n\n$SQFT_BINNED\n:   1. 1\n2. 2\n3. 4\n4. &lt;NA&gt;\n5. 3\n\n\n\n\n\n",
            "text/latex": "\\begin{description}\n\\item[\\$Has\\_Solar] \\begin{enumerate*}\n\\item 1\n\\item 0\n\\end{enumerate*}\n\n\\item[\\$SURVEY] \\begin{enumerate*}\n\\item 'ADOPTER'\n\\item 'CONSIDERER'\n\\item 'GPS'\n\\end{enumerate*}\n\n\\item[\\$STATE] \\begin{enumerate*}\n\\item 4\n\\item 2\n\\item 1\n\\item 3\n\\end{enumerate*}\n\n\\item[\\$BUY\\_LEASE] \\begin{enumerate*}\n\\item 2\n\\item 1\n\\item <NA>\n\\end{enumerate*}\n\n\\item[\\$INFLNC\\_PPLTALK] \\begin{enumerate*}\n\\item 4\n\\item 3\n\\item 2\n\\item 1\n\\item <NA>\n\\item 5\n\\end{enumerate*}\n\n\\item[\\$STANCE] \\begin{enumerate*}\n\\item 2\n\\item 5\n\\item <NA>\n\\item 3\n\\item 1\n\\item 4\n\\end{enumerate*}\n\n\\item[\\$PN2] \\begin{enumerate*}\n\\item 4\n\\item 1\n\\item 3\n\\item 5\n\\item 2\n\\item <NA>\n\\end{enumerate*}\n\n\\item[\\$INCOME\\_BINNED] \\begin{enumerate*}\n\\item 5\n\\item 4\n\\item <NA>\n\\item 3\n\\item 1\n\\item 2\n\\end{enumerate*}\n\n\\item[\\$EDUC\\_BINNED] \\begin{enumerate*}\n\\item 4\n\\item 2\n\\item <NA>\n\\item 3\n\\item 1\n\\end{enumerate*}\n\n\\item[\\$SQFT\\_BINNED] \\begin{enumerate*}\n\\item 1\n\\item 2\n\\item 4\n\\item <NA>\n\\item 3\n\\end{enumerate*}\n\n\\end{description}\n",
            "text/plain": [
              "$Has_Solar\n",
              "[1] 1 0\n",
              "\n",
              "$SURVEY\n",
              "[1] \"ADOPTER\"    \"CONSIDERER\" \"GPS\"       \n",
              "\n",
              "$STATE\n",
              "[1] 4 2 1 3\n",
              "\n",
              "$BUY_LEASE\n",
              "[1]  2  1 NA\n",
              "\n",
              "$INFLNC_PPLTALK\n",
              "[1]  4  3  2  1 NA  5\n",
              "\n",
              "$STANCE\n",
              "[1]  2  5 NA  3  1  4\n",
              "\n",
              "$PN2\n",
              "[1]  4  1  3  5  2 NA\n",
              "\n",
              "$INCOME_BINNED\n",
              "[1]  5  4 NA  3  1  2\n",
              "\n",
              "$EDUC_BINNED\n",
              "[1]  4  2 NA  3  1\n",
              "\n",
              "$SQFT_BINNED\n",
              "[1]  1  2  4 NA  3\n"
            ]
          },
          "metadata": {}
        }
      ]
    },
    {
      "cell_type": "code",
      "source": [
        "# Create factors\n",
        "survey_data$BUY_LEASE <- as.factor(survey_data$BUY_LEASE)\n",
        "survey_data$INFLNC_PPLTALK <- as.factor(survey_data$INFLNC_PPLTALK)\n",
        "survey_data$STANCE <- as.factor(survey_data$STANCE)\n",
        "survey_data$PN2 <- as.factor(survey_data$PN2)\n",
        "survey_data$INCOME_BINNED <- as.factor(survey_data$INCOME_BINNED)\n",
        "survey_data$EDUC_BINNED <- as.factor(survey_data$EDUC_BINNED)\n",
        "survey_data$SQFT_BINNED <- as.factor(survey_data$SQFT_BINNED)\n",
        "survey_data$Has_Solar <- as.factor(survey_data$Has_Solar)\n",
        "survey_data$STATE <- as.factor(survey_data$STATE)"
      ],
      "metadata": {
        "id": "ChfdyvJO4BPc"
      },
      "execution_count": null,
      "outputs": []
    },
    {
      "cell_type": "code",
      "source": [
        "# Mode function\n",
        "Mode <- function(x) {\n",
        "  ux <- unique(x)\n",
        "  ux[which.max(tabulate(match(x, ux)))]\n",
        "}"
      ],
      "metadata": {
        "id": "hza1PECshKCq"
      },
      "execution_count": null,
      "outputs": []
    },
    {
      "cell_type": "code",
      "source": [
        "survey_data_mode <- survey_data\n",
        "survey_data_mode$BUY_LEASE <- ifelse(is.na(survey_data_mode$BUY_LEASE), Mode(survey_data$BUY_LEASE), survey_data$BUY_LEASE)\n",
        "survey_data_mode$INFLNC_PPLTALK <- ifelse(is.na(survey_data_mode$INFLNC_PPLTALK),Mode(survey_data$INFLNC_PPLTALK), survey_data_mode$INFLNC_PPLTALK)\n",
        "survey_data_mode$STANCE <- ifelse(is.na(survey_data_mode$STANCE), Mode(survey_data$STANCE), survey_data_mode$STANCE)\n",
        "survey_data_mode$PN2 <- ifelse(is.na(survey_data_mode$PN2), Mode(survey_data$PN2), survey_data_mode$PN2)\n",
        "survey_data_mode$INCOME_BINNED <- ifelse(is.na(survey_data_mode$INCOME_BINNED), Mode(survey_data$INCOME_BINNED), survey_data_mode$INCOME_BINNED)\n",
        "survey_data_mode$EDUC_BINNED <- ifelse(is.na(survey_data_mode$EDUC_BINNED), Mode(survey_data$EDUC_BINNED), survey_data_mode$EDUC_BINNED) # This one is for when all of the NAs are replaced with 99\n",
        "survey_data_mode$SQFT_BINNED <- ifelse(is.na(survey_data_mode$SQFT_BINNED), Mode(survey_data$SQFT_BINNED), survey_data_mode$SQFT_BINNED)\n",
        "\n",
        "lapply(survey_data_mode[c('Has_Solar', 'SURVEY', 'STATE', 'BUY_LEASE', 'INFLNC_PPLTALK', 'STANCE', 'PN2', 'INCOME_BINNED', 'EDUC_BINNED', 'SQFT_BINNED')], unique)\n",
        "\n",
        "# for INFLNC_PPLTALK & BUY_LEASE NA is the mode because those fields are only in the ADOPTER survey"
      ],
      "metadata": {
        "colab": {
          "base_uri": "https://localhost:8080/",
          "height": 427
        },
        "id": "kc7yWtMQfFBF",
        "outputId": "59809504-345c-429e-d680-b80ec26ca367"
      },
      "execution_count": null,
      "outputs": [
        {
          "output_type": "display_data",
          "data": {
            "text/html": [
              "<dl>\n",
              "\t<dt>$Has_Solar</dt>\n",
              "\t\t<dd><style>\n",
              ".list-inline {list-style: none; margin:0; padding: 0}\n",
              ".list-inline>li {display: inline-block}\n",
              ".list-inline>li:not(:last-child)::after {content: \"\\00b7\"; padding: 0 .5ex}\n",
              "</style>\n",
              "<ol class=list-inline><li>1</li><li>0</li></ol>\n",
              "\n",
              "<details>\n",
              "\t<summary style=display:list-item;cursor:pointer>\n",
              "\t\t<strong>Levels</strong>:\n",
              "\t</summary>\n",
              "\t<style>\n",
              "\t.list-inline {list-style: none; margin:0; padding: 0}\n",
              "\t.list-inline>li {display: inline-block}\n",
              "\t.list-inline>li:not(:last-child)::after {content: \"\\00b7\"; padding: 0 .5ex}\n",
              "\t</style>\n",
              "\t<ol class=list-inline><li>'0'</li><li>'1'</li></ol>\n",
              "</details></dd>\n",
              "\t<dt>$SURVEY</dt>\n",
              "\t\t<dd><style>\n",
              ".list-inline {list-style: none; margin:0; padding: 0}\n",
              ".list-inline>li {display: inline-block}\n",
              ".list-inline>li:not(:last-child)::after {content: \"\\00b7\"; padding: 0 .5ex}\n",
              "</style>\n",
              "<ol class=list-inline><li>'ADOPTER'</li><li>'CONSIDERER'</li><li>'GPS'</li></ol>\n",
              "</dd>\n",
              "\t<dt>$STATE</dt>\n",
              "\t\t<dd><style>\n",
              ".list-inline {list-style: none; margin:0; padding: 0}\n",
              ".list-inline>li {display: inline-block}\n",
              ".list-inline>li:not(:last-child)::after {content: \"\\00b7\"; padding: 0 .5ex}\n",
              "</style>\n",
              "<ol class=list-inline><li>4</li><li>2</li><li>1</li><li>3</li></ol>\n",
              "\n",
              "<details>\n",
              "\t<summary style=display:list-item;cursor:pointer>\n",
              "\t\t<strong>Levels</strong>:\n",
              "\t</summary>\n",
              "\t<style>\n",
              "\t.list-inline {list-style: none; margin:0; padding: 0}\n",
              "\t.list-inline>li {display: inline-block}\n",
              "\t.list-inline>li:not(:last-child)::after {content: \"\\00b7\"; padding: 0 .5ex}\n",
              "\t</style>\n",
              "\t<ol class=list-inline><li>'1'</li><li>'2'</li><li>'3'</li><li>'4'</li></ol>\n",
              "</details></dd>\n",
              "\t<dt>$BUY_LEASE</dt>\n",
              "\t\t<dd><style>\n",
              ".list-inline {list-style: none; margin:0; padding: 0}\n",
              ".list-inline>li {display: inline-block}\n",
              ".list-inline>li:not(:last-child)::after {content: \"\\00b7\"; padding: 0 .5ex}\n",
              "</style>\n",
              "<ol class=list-inline><li>2</li><li>1</li><li>&lt;NA&gt;</li></ol>\n",
              "</dd>\n",
              "\t<dt>$INFLNC_PPLTALK</dt>\n",
              "\t\t<dd><style>\n",
              ".list-inline {list-style: none; margin:0; padding: 0}\n",
              ".list-inline>li {display: inline-block}\n",
              ".list-inline>li:not(:last-child)::after {content: \"\\00b7\"; padding: 0 .5ex}\n",
              "</style>\n",
              "<ol class=list-inline><li>4</li><li>3</li><li>2</li><li>1</li><li>&lt;NA&gt;</li><li>5</li></ol>\n",
              "</dd>\n",
              "\t<dt>$STANCE</dt>\n",
              "\t\t<dd><style>\n",
              ".list-inline {list-style: none; margin:0; padding: 0}\n",
              ".list-inline>li {display: inline-block}\n",
              ".list-inline>li:not(:last-child)::after {content: \"\\00b7\"; padding: 0 .5ex}\n",
              "</style>\n",
              "<ol class=list-inline><li>2</li><li>5</li><li>3</li><li>1</li><li>4</li></ol>\n",
              "</dd>\n",
              "\t<dt>$PN2</dt>\n",
              "\t\t<dd><style>\n",
              ".list-inline {list-style: none; margin:0; padding: 0}\n",
              ".list-inline>li {display: inline-block}\n",
              ".list-inline>li:not(:last-child)::after {content: \"\\00b7\"; padding: 0 .5ex}\n",
              "</style>\n",
              "<ol class=list-inline><li>4</li><li>1</li><li>3</li><li>5</li><li>2</li></ol>\n",
              "</dd>\n",
              "\t<dt>$INCOME_BINNED</dt>\n",
              "\t\t<dd><style>\n",
              ".list-inline {list-style: none; margin:0; padding: 0}\n",
              ".list-inline>li {display: inline-block}\n",
              ".list-inline>li:not(:last-child)::after {content: \"\\00b7\"; padding: 0 .5ex}\n",
              "</style>\n",
              "<ol class=list-inline><li>5</li><li>4</li><li>3</li><li>1</li><li>2</li></ol>\n",
              "</dd>\n",
              "\t<dt>$EDUC_BINNED</dt>\n",
              "\t\t<dd><style>\n",
              ".list-inline {list-style: none; margin:0; padding: 0}\n",
              ".list-inline>li {display: inline-block}\n",
              ".list-inline>li:not(:last-child)::after {content: \"\\00b7\"; padding: 0 .5ex}\n",
              "</style>\n",
              "<ol class=list-inline><li>4</li><li>2</li><li>3</li><li>1</li></ol>\n",
              "</dd>\n",
              "\t<dt>$SQFT_BINNED</dt>\n",
              "\t\t<dd><style>\n",
              ".list-inline {list-style: none; margin:0; padding: 0}\n",
              ".list-inline>li {display: inline-block}\n",
              ".list-inline>li:not(:last-child)::after {content: \"\\00b7\"; padding: 0 .5ex}\n",
              "</style>\n",
              "<ol class=list-inline><li>1</li><li>2</li><li>4</li><li>3</li></ol>\n",
              "</dd>\n",
              "</dl>\n"
            ],
            "text/markdown": "$Has_Solar\n:   1. 1\n2. 0\n\n\n\n**Levels**: 1. '0'\n2. '1'\n\n\n\n$SURVEY\n:   1. 'ADOPTER'\n2. 'CONSIDERER'\n3. 'GPS'\n\n\n\n$STATE\n:   1. 4\n2. 2\n3. 1\n4. 3\n\n\n\n**Levels**: 1. '1'\n2. '2'\n3. '3'\n4. '4'\n\n\n\n$BUY_LEASE\n:   1. 2\n2. 1\n3. &lt;NA&gt;\n\n\n\n$INFLNC_PPLTALK\n:   1. 4\n2. 3\n3. 2\n4. 1\n5. &lt;NA&gt;\n6. 5\n\n\n\n$STANCE\n:   1. 2\n2. 5\n3. 3\n4. 1\n5. 4\n\n\n\n$PN2\n:   1. 4\n2. 1\n3. 3\n4. 5\n5. 2\n\n\n\n$INCOME_BINNED\n:   1. 5\n2. 4\n3. 3\n4. 1\n5. 2\n\n\n\n$EDUC_BINNED\n:   1. 4\n2. 2\n3. 3\n4. 1\n\n\n\n$SQFT_BINNED\n:   1. 1\n2. 2\n3. 4\n4. 3\n\n\n\n\n\n",
            "text/latex": "\\begin{description}\n\\item[\\$Has\\_Solar] \\begin{enumerate*}\n\\item 1\n\\item 0\n\\end{enumerate*}\n\n\\emph{Levels}: \\begin{enumerate*}\n\\item '0'\n\\item '1'\n\\end{enumerate*}\n\n\\item[\\$SURVEY] \\begin{enumerate*}\n\\item 'ADOPTER'\n\\item 'CONSIDERER'\n\\item 'GPS'\n\\end{enumerate*}\n\n\\item[\\$STATE] \\begin{enumerate*}\n\\item 4\n\\item 2\n\\item 1\n\\item 3\n\\end{enumerate*}\n\n\\emph{Levels}: \\begin{enumerate*}\n\\item '1'\n\\item '2'\n\\item '3'\n\\item '4'\n\\end{enumerate*}\n\n\\item[\\$BUY\\_LEASE] \\begin{enumerate*}\n\\item 2\n\\item 1\n\\item <NA>\n\\end{enumerate*}\n\n\\item[\\$INFLNC\\_PPLTALK] \\begin{enumerate*}\n\\item 4\n\\item 3\n\\item 2\n\\item 1\n\\item <NA>\n\\item 5\n\\end{enumerate*}\n\n\\item[\\$STANCE] \\begin{enumerate*}\n\\item 2\n\\item 5\n\\item 3\n\\item 1\n\\item 4\n\\end{enumerate*}\n\n\\item[\\$PN2] \\begin{enumerate*}\n\\item 4\n\\item 1\n\\item 3\n\\item 5\n\\item 2\n\\end{enumerate*}\n\n\\item[\\$INCOME\\_BINNED] \\begin{enumerate*}\n\\item 5\n\\item 4\n\\item 3\n\\item 1\n\\item 2\n\\end{enumerate*}\n\n\\item[\\$EDUC\\_BINNED] \\begin{enumerate*}\n\\item 4\n\\item 2\n\\item 3\n\\item 1\n\\end{enumerate*}\n\n\\item[\\$SQFT\\_BINNED] \\begin{enumerate*}\n\\item 1\n\\item 2\n\\item 4\n\\item 3\n\\end{enumerate*}\n\n\\end{description}\n",
            "text/plain": [
              "$Has_Solar\n",
              "[1] 1 0\n",
              "Levels: 0 1\n",
              "\n",
              "$SURVEY\n",
              "[1] \"ADOPTER\"    \"CONSIDERER\" \"GPS\"       \n",
              "\n",
              "$STATE\n",
              "[1] 4 2 1 3\n",
              "Levels: 1 2 3 4\n",
              "\n",
              "$BUY_LEASE\n",
              "[1]  2  1 NA\n",
              "\n",
              "$INFLNC_PPLTALK\n",
              "[1]  4  3  2  1 NA  5\n",
              "\n",
              "$STANCE\n",
              "[1] 2 5 3 1 4\n",
              "\n",
              "$PN2\n",
              "[1] 4 1 3 5 2\n",
              "\n",
              "$INCOME_BINNED\n",
              "[1] 5 4 3 1 2\n",
              "\n",
              "$EDUC_BINNED\n",
              "[1] 4 2 3 1\n",
              "\n",
              "$SQFT_BINNED\n",
              "[1] 1 2 4 3\n"
            ]
          },
          "metadata": {}
        }
      ]
    },
    {
      "cell_type": "code",
      "source": [
        "# Create factors\n",
        "survey_data_mode$BUY_LEASE <- as.factor(survey_data_mode$BUY_LEASE)\n",
        "survey_data_mode$INFLNC_PPLTALK <- as.factor(survey_data_mode$INFLNC_PPLTALK)\n",
        "survey_data_mode$STANCE <- as.factor(survey_data_mode$STANCE)\n",
        "survey_data_mode$PN2 <- as.factor(survey_data_mode$PN2)\n",
        "survey_data_mode$INCOME_BINNED <- as.factor(survey_data_mode$INCOME_BINNED)\n",
        "survey_data_mode$EDUC_BINNED <- as.factor(survey_data_mode$EDUC_BINNED)\n",
        "survey_data_mode$SQFT_BINNED <- as.factor(survey_data_mode$SQFT_BINNED)\n",
        "survey_data_mode$Has_Solar <- as.factor(survey_data_mode$Has_Solar)\n",
        "survey_data_mode$STATE <- as.factor(survey_data_mode$STATE)"
      ],
      "metadata": {
        "id": "a-pMcP7f55xp"
      },
      "execution_count": null,
      "outputs": []
    },
    {
      "cell_type": "code",
      "source": [
        "survey_data_99 <- survey_data\n",
        "survey_data_99$BUY_LEASE <- ifelse(is.na(survey_data_99$BUY_LEASE), 99, survey_data_99$BUY_LEASE)\n",
        "survey_data_99$INFLNC_PPLTALK <- ifelse(is.na(survey_data_99$INFLNC_PPLTALK),99, survey_data_99$INFLNC_PPLTALK)\n",
        "survey_data_99$STANCE <- ifelse(is.na(survey_data_99$STANCE), 99, survey_data_99$STANCE)\n",
        "survey_data_99$PN2 <- ifelse(is.na(survey_data_99$PN2), 99, survey_data_99$PN2)\n",
        "survey_data_99$INCOME_BINNED <- ifelse(is.na(survey_data_99$INCOME_BINNED), 99, survey_data_99$INCOME_BINNED)\n",
        "survey_data_99$EDUC_BINNED <- ifelse(is.na(survey_data_99$EDUC_BINNED), 99, survey_data_99$EDUC_BINNED) # This one is for when all of the NAs are replaced with 99\n",
        "survey_data_99$SQFT_BINNED <- ifelse(is.na(survey_data_99$SQFT_BINNED), 99, survey_data_99$SQFT_BINNED) #codebook didn't have a value for missing data\n",
        "\n",
        "lapply(survey_data_99[c('Has_Solar', 'SURVEY', 'STATE', 'BUY_LEASE', 'INFLNC_PPLTALK', 'STANCE', 'PN2', 'INCOME_BINNED', 'EDUC_BINNED', 'SQFT_BINNED')], unique)\n",
        "\n",
        "# for INFLNC_PPLTALK & BUY_LEASE NA is the mode because those fields are only in the ADOPTER survey"
      ],
      "metadata": {
        "colab": {
          "base_uri": "https://localhost:8080/",
          "height": 427
        },
        "id": "CmIYdlbaIyCB",
        "outputId": "9df82ed8-0ebb-4a7a-e775-2470b76c1a2b"
      },
      "execution_count": null,
      "outputs": [
        {
          "output_type": "display_data",
          "data": {
            "text/html": [
              "<dl>\n",
              "\t<dt>$Has_Solar</dt>\n",
              "\t\t<dd><style>\n",
              ".list-inline {list-style: none; margin:0; padding: 0}\n",
              ".list-inline>li {display: inline-block}\n",
              ".list-inline>li:not(:last-child)::after {content: \"\\00b7\"; padding: 0 .5ex}\n",
              "</style>\n",
              "<ol class=list-inline><li>1</li><li>0</li></ol>\n",
              "\n",
              "<details>\n",
              "\t<summary style=display:list-item;cursor:pointer>\n",
              "\t\t<strong>Levels</strong>:\n",
              "\t</summary>\n",
              "\t<style>\n",
              "\t.list-inline {list-style: none; margin:0; padding: 0}\n",
              "\t.list-inline>li {display: inline-block}\n",
              "\t.list-inline>li:not(:last-child)::after {content: \"\\00b7\"; padding: 0 .5ex}\n",
              "\t</style>\n",
              "\t<ol class=list-inline><li>'0'</li><li>'1'</li></ol>\n",
              "</details></dd>\n",
              "\t<dt>$SURVEY</dt>\n",
              "\t\t<dd><style>\n",
              ".list-inline {list-style: none; margin:0; padding: 0}\n",
              ".list-inline>li {display: inline-block}\n",
              ".list-inline>li:not(:last-child)::after {content: \"\\00b7\"; padding: 0 .5ex}\n",
              "</style>\n",
              "<ol class=list-inline><li>'ADOPTER'</li><li>'CONSIDERER'</li><li>'GPS'</li></ol>\n",
              "</dd>\n",
              "\t<dt>$STATE</dt>\n",
              "\t\t<dd><style>\n",
              ".list-inline {list-style: none; margin:0; padding: 0}\n",
              ".list-inline>li {display: inline-block}\n",
              ".list-inline>li:not(:last-child)::after {content: \"\\00b7\"; padding: 0 .5ex}\n",
              "</style>\n",
              "<ol class=list-inline><li>4</li><li>2</li><li>1</li><li>3</li></ol>\n",
              "\n",
              "<details>\n",
              "\t<summary style=display:list-item;cursor:pointer>\n",
              "\t\t<strong>Levels</strong>:\n",
              "\t</summary>\n",
              "\t<style>\n",
              "\t.list-inline {list-style: none; margin:0; padding: 0}\n",
              "\t.list-inline>li {display: inline-block}\n",
              "\t.list-inline>li:not(:last-child)::after {content: \"\\00b7\"; padding: 0 .5ex}\n",
              "\t</style>\n",
              "\t<ol class=list-inline><li>'1'</li><li>'2'</li><li>'3'</li><li>'4'</li></ol>\n",
              "</details></dd>\n",
              "\t<dt>$BUY_LEASE</dt>\n",
              "\t\t<dd><style>\n",
              ".list-inline {list-style: none; margin:0; padding: 0}\n",
              ".list-inline>li {display: inline-block}\n",
              ".list-inline>li:not(:last-child)::after {content: \"\\00b7\"; padding: 0 .5ex}\n",
              "</style>\n",
              "<ol class=list-inline><li>2</li><li>1</li><li>99</li></ol>\n",
              "</dd>\n",
              "\t<dt>$INFLNC_PPLTALK</dt>\n",
              "\t\t<dd><style>\n",
              ".list-inline {list-style: none; margin:0; padding: 0}\n",
              ".list-inline>li {display: inline-block}\n",
              ".list-inline>li:not(:last-child)::after {content: \"\\00b7\"; padding: 0 .5ex}\n",
              "</style>\n",
              "<ol class=list-inline><li>4</li><li>3</li><li>2</li><li>1</li><li>99</li><li>5</li></ol>\n",
              "</dd>\n",
              "\t<dt>$STANCE</dt>\n",
              "\t\t<dd><style>\n",
              ".list-inline {list-style: none; margin:0; padding: 0}\n",
              ".list-inline>li {display: inline-block}\n",
              ".list-inline>li:not(:last-child)::after {content: \"\\00b7\"; padding: 0 .5ex}\n",
              "</style>\n",
              "<ol class=list-inline><li>2</li><li>5</li><li>99</li><li>3</li><li>1</li><li>4</li></ol>\n",
              "</dd>\n",
              "\t<dt>$PN2</dt>\n",
              "\t\t<dd><style>\n",
              ".list-inline {list-style: none; margin:0; padding: 0}\n",
              ".list-inline>li {display: inline-block}\n",
              ".list-inline>li:not(:last-child)::after {content: \"\\00b7\"; padding: 0 .5ex}\n",
              "</style>\n",
              "<ol class=list-inline><li>4</li><li>1</li><li>3</li><li>5</li><li>2</li><li>99</li></ol>\n",
              "</dd>\n",
              "\t<dt>$INCOME_BINNED</dt>\n",
              "\t\t<dd><style>\n",
              ".list-inline {list-style: none; margin:0; padding: 0}\n",
              ".list-inline>li {display: inline-block}\n",
              ".list-inline>li:not(:last-child)::after {content: \"\\00b7\"; padding: 0 .5ex}\n",
              "</style>\n",
              "<ol class=list-inline><li>5</li><li>4</li><li>99</li><li>3</li><li>1</li><li>2</li></ol>\n",
              "</dd>\n",
              "\t<dt>$EDUC_BINNED</dt>\n",
              "\t\t<dd><style>\n",
              ".list-inline {list-style: none; margin:0; padding: 0}\n",
              ".list-inline>li {display: inline-block}\n",
              ".list-inline>li:not(:last-child)::after {content: \"\\00b7\"; padding: 0 .5ex}\n",
              "</style>\n",
              "<ol class=list-inline><li>4</li><li>2</li><li>99</li><li>3</li><li>1</li></ol>\n",
              "</dd>\n",
              "\t<dt>$SQFT_BINNED</dt>\n",
              "\t\t<dd><style>\n",
              ".list-inline {list-style: none; margin:0; padding: 0}\n",
              ".list-inline>li {display: inline-block}\n",
              ".list-inline>li:not(:last-child)::after {content: \"\\00b7\"; padding: 0 .5ex}\n",
              "</style>\n",
              "<ol class=list-inline><li>1</li><li>2</li><li>4</li><li>99</li><li>3</li></ol>\n",
              "</dd>\n",
              "</dl>\n"
            ],
            "text/markdown": "$Has_Solar\n:   1. 1\n2. 0\n\n\n\n**Levels**: 1. '0'\n2. '1'\n\n\n\n$SURVEY\n:   1. 'ADOPTER'\n2. 'CONSIDERER'\n3. 'GPS'\n\n\n\n$STATE\n:   1. 4\n2. 2\n3. 1\n4. 3\n\n\n\n**Levels**: 1. '1'\n2. '2'\n3. '3'\n4. '4'\n\n\n\n$BUY_LEASE\n:   1. 2\n2. 1\n3. 99\n\n\n\n$INFLNC_PPLTALK\n:   1. 4\n2. 3\n3. 2\n4. 1\n5. 99\n6. 5\n\n\n\n$STANCE\n:   1. 2\n2. 5\n3. 99\n4. 3\n5. 1\n6. 4\n\n\n\n$PN2\n:   1. 4\n2. 1\n3. 3\n4. 5\n5. 2\n6. 99\n\n\n\n$INCOME_BINNED\n:   1. 5\n2. 4\n3. 99\n4. 3\n5. 1\n6. 2\n\n\n\n$EDUC_BINNED\n:   1. 4\n2. 2\n3. 99\n4. 3\n5. 1\n\n\n\n$SQFT_BINNED\n:   1. 1\n2. 2\n3. 4\n4. 99\n5. 3\n\n\n\n\n\n",
            "text/latex": "\\begin{description}\n\\item[\\$Has\\_Solar] \\begin{enumerate*}\n\\item 1\n\\item 0\n\\end{enumerate*}\n\n\\emph{Levels}: \\begin{enumerate*}\n\\item '0'\n\\item '1'\n\\end{enumerate*}\n\n\\item[\\$SURVEY] \\begin{enumerate*}\n\\item 'ADOPTER'\n\\item 'CONSIDERER'\n\\item 'GPS'\n\\end{enumerate*}\n\n\\item[\\$STATE] \\begin{enumerate*}\n\\item 4\n\\item 2\n\\item 1\n\\item 3\n\\end{enumerate*}\n\n\\emph{Levels}: \\begin{enumerate*}\n\\item '1'\n\\item '2'\n\\item '3'\n\\item '4'\n\\end{enumerate*}\n\n\\item[\\$BUY\\_LEASE] \\begin{enumerate*}\n\\item 2\n\\item 1\n\\item 99\n\\end{enumerate*}\n\n\\item[\\$INFLNC\\_PPLTALK] \\begin{enumerate*}\n\\item 4\n\\item 3\n\\item 2\n\\item 1\n\\item 99\n\\item 5\n\\end{enumerate*}\n\n\\item[\\$STANCE] \\begin{enumerate*}\n\\item 2\n\\item 5\n\\item 99\n\\item 3\n\\item 1\n\\item 4\n\\end{enumerate*}\n\n\\item[\\$PN2] \\begin{enumerate*}\n\\item 4\n\\item 1\n\\item 3\n\\item 5\n\\item 2\n\\item 99\n\\end{enumerate*}\n\n\\item[\\$INCOME\\_BINNED] \\begin{enumerate*}\n\\item 5\n\\item 4\n\\item 99\n\\item 3\n\\item 1\n\\item 2\n\\end{enumerate*}\n\n\\item[\\$EDUC\\_BINNED] \\begin{enumerate*}\n\\item 4\n\\item 2\n\\item 99\n\\item 3\n\\item 1\n\\end{enumerate*}\n\n\\item[\\$SQFT\\_BINNED] \\begin{enumerate*}\n\\item 1\n\\item 2\n\\item 4\n\\item 99\n\\item 3\n\\end{enumerate*}\n\n\\end{description}\n",
            "text/plain": [
              "$Has_Solar\n",
              "[1] 1 0\n",
              "Levels: 0 1\n",
              "\n",
              "$SURVEY\n",
              "[1] \"ADOPTER\"    \"CONSIDERER\" \"GPS\"       \n",
              "\n",
              "$STATE\n",
              "[1] 4 2 1 3\n",
              "Levels: 1 2 3 4\n",
              "\n",
              "$BUY_LEASE\n",
              "[1]  2  1 99\n",
              "\n",
              "$INFLNC_PPLTALK\n",
              "[1]  4  3  2  1 99  5\n",
              "\n",
              "$STANCE\n",
              "[1]  2  5 99  3  1  4\n",
              "\n",
              "$PN2\n",
              "[1]  4  1  3  5  2 99\n",
              "\n",
              "$INCOME_BINNED\n",
              "[1]  5  4 99  3  1  2\n",
              "\n",
              "$EDUC_BINNED\n",
              "[1]  4  2 99  3  1\n",
              "\n",
              "$SQFT_BINNED\n",
              "[1]  1  2  4 99  3\n"
            ]
          },
          "metadata": {}
        }
      ]
    },
    {
      "cell_type": "code",
      "source": [
        "# Create factors for survey_data_99\n",
        "survey_data_99$BUY_LEASE <- as.factor(survey_data_99$BUY_LEASE)\n",
        "survey_data_99$INFLNC_PPLTALK <- as.factor(survey_data_99$INFLNC_PPLTALK)\n",
        "survey_data_99$STANCE <- as.factor(survey_data_99$STANCE)\n",
        "survey_data_99$PN2 <- as.factor(survey_data_99$PN2)\n",
        "survey_data_99$INCOME_BINNED <- as.factor(survey_data_99$INCOME_BINNED)\n",
        "survey_data_99$EDUC_BINNED <- as.factor(survey_data_99$EDUC_BINNED)\n",
        "survey_data_99$SQFT_BINNED <- as.factor(survey_data_99$SQFT_BINNED)\n",
        "survey_data_99$Has_Solar <- as.factor(survey_data_99$Has_Solar)\n",
        "survey_data_99$STATE <- as.factor(survey_data_99$STATE)\n",
        "\n",
        "head(survey_data)\n",
        "head(survey_data_99)\n",
        "head(survey_data_mode)"
      ],
      "metadata": {
        "id": "HxCZlGVSKozF",
        "colab": {
          "base_uri": "https://localhost:8080/",
          "height": 825
        },
        "outputId": "a71d46cd-77c8-47c8-9f75-ec77bfdd60d7"
      },
      "execution_count": null,
      "outputs": [
        {
          "output_type": "display_data",
          "data": {
            "text/html": [
              "<table class=\"dataframe\">\n",
              "<caption>A data.frame: 6 × 11</caption>\n",
              "<thead>\n",
              "\t<tr><th></th><th scope=col>SURVEY</th><th scope=col>CASE_ID</th><th scope=col>STATE</th><th scope=col>SQFT_BINNED</th><th scope=col>EDUC_BINNED</th><th scope=col>INCOME_BINNED</th><th scope=col>PN2</th><th scope=col>STANCE</th><th scope=col>INFLNC_PPLTALK</th><th scope=col>BUY_LEASE</th><th scope=col>Has_Solar</th></tr>\n",
              "\t<tr><th></th><th scope=col>&lt;chr&gt;</th><th scope=col>&lt;int&gt;</th><th scope=col>&lt;fct&gt;</th><th scope=col>&lt;fct&gt;</th><th scope=col>&lt;fct&gt;</th><th scope=col>&lt;fct&gt;</th><th scope=col>&lt;fct&gt;</th><th scope=col>&lt;fct&gt;</th><th scope=col>&lt;fct&gt;</th><th scope=col>&lt;fct&gt;</th><th scope=col>&lt;fct&gt;</th></tr>\n",
              "</thead>\n",
              "<tbody>\n",
              "\t<tr><th scope=row>1</th><td>ADOPTER</td><td>1342</td><td>4</td><td>1 </td><td>4 </td><td>5 </td><td>4</td><td>2 </td><td>4</td><td>2 </td><td>1</td></tr>\n",
              "\t<tr><th scope=row>2</th><td>ADOPTER</td><td>1343</td><td>4</td><td>2 </td><td>2 </td><td>4 </td><td>4</td><td>5 </td><td>3</td><td>2 </td><td>1</td></tr>\n",
              "\t<tr><th scope=row>3</th><td>ADOPTER</td><td>1344</td><td>4</td><td>4 </td><td>NA</td><td>NA</td><td>4</td><td>NA</td><td>3</td><td>1 </td><td>1</td></tr>\n",
              "\t<tr><th scope=row>4</th><td>ADOPTER</td><td>1345</td><td>4</td><td>NA</td><td>2 </td><td>3 </td><td>1</td><td>5 </td><td>2</td><td>NA</td><td>1</td></tr>\n",
              "\t<tr><th scope=row>5</th><td>ADOPTER</td><td>1346</td><td>4</td><td>4 </td><td>2 </td><td>1 </td><td>3</td><td>3 </td><td>2</td><td>2 </td><td>1</td></tr>\n",
              "\t<tr><th scope=row>6</th><td>ADOPTER</td><td>1347</td><td>4</td><td>2 </td><td>3 </td><td>NA</td><td>5</td><td>3 </td><td>4</td><td>1 </td><td>1</td></tr>\n",
              "</tbody>\n",
              "</table>\n"
            ],
            "text/markdown": "\nA data.frame: 6 × 11\n\n| <!--/--> | SURVEY &lt;chr&gt; | CASE_ID &lt;int&gt; | STATE &lt;fct&gt; | SQFT_BINNED &lt;fct&gt; | EDUC_BINNED &lt;fct&gt; | INCOME_BINNED &lt;fct&gt; | PN2 &lt;fct&gt; | STANCE &lt;fct&gt; | INFLNC_PPLTALK &lt;fct&gt; | BUY_LEASE &lt;fct&gt; | Has_Solar &lt;fct&gt; |\n|---|---|---|---|---|---|---|---|---|---|---|---|\n| 1 | ADOPTER | 1342 | 4 | 1  | 4  | 5  | 4 | 2  | 4 | 2  | 1 |\n| 2 | ADOPTER | 1343 | 4 | 2  | 2  | 4  | 4 | 5  | 3 | 2  | 1 |\n| 3 | ADOPTER | 1344 | 4 | 4  | NA | NA | 4 | NA | 3 | 1  | 1 |\n| 4 | ADOPTER | 1345 | 4 | NA | 2  | 3  | 1 | 5  | 2 | NA | 1 |\n| 5 | ADOPTER | 1346 | 4 | 4  | 2  | 1  | 3 | 3  | 2 | 2  | 1 |\n| 6 | ADOPTER | 1347 | 4 | 2  | 3  | NA | 5 | 3  | 4 | 1  | 1 |\n\n",
            "text/latex": "A data.frame: 6 × 11\n\\begin{tabular}{r|lllllllllll}\n  & SURVEY & CASE\\_ID & STATE & SQFT\\_BINNED & EDUC\\_BINNED & INCOME\\_BINNED & PN2 & STANCE & INFLNC\\_PPLTALK & BUY\\_LEASE & Has\\_Solar\\\\\n  & <chr> & <int> & <fct> & <fct> & <fct> & <fct> & <fct> & <fct> & <fct> & <fct> & <fct>\\\\\n\\hline\n\t1 & ADOPTER & 1342 & 4 & 1  & 4  & 5  & 4 & 2  & 4 & 2  & 1\\\\\n\t2 & ADOPTER & 1343 & 4 & 2  & 2  & 4  & 4 & 5  & 3 & 2  & 1\\\\\n\t3 & ADOPTER & 1344 & 4 & 4  & NA & NA & 4 & NA & 3 & 1  & 1\\\\\n\t4 & ADOPTER & 1345 & 4 & NA & 2  & 3  & 1 & 5  & 2 & NA & 1\\\\\n\t5 & ADOPTER & 1346 & 4 & 4  & 2  & 1  & 3 & 3  & 2 & 2  & 1\\\\\n\t6 & ADOPTER & 1347 & 4 & 2  & 3  & NA & 5 & 3  & 4 & 1  & 1\\\\\n\\end{tabular}\n",
            "text/plain": [
              "  SURVEY  CASE_ID STATE SQFT_BINNED EDUC_BINNED INCOME_BINNED PN2 STANCE\n",
              "1 ADOPTER 1342    4     1           4           5             4   2     \n",
              "2 ADOPTER 1343    4     2           2           4             4   5     \n",
              "3 ADOPTER 1344    4     4           NA          NA            4   NA    \n",
              "4 ADOPTER 1345    4     NA          2           3             1   5     \n",
              "5 ADOPTER 1346    4     4           2           1             3   3     \n",
              "6 ADOPTER 1347    4     2           3           NA            5   3     \n",
              "  INFLNC_PPLTALK BUY_LEASE Has_Solar\n",
              "1 4              2         1        \n",
              "2 3              2         1        \n",
              "3 3              1         1        \n",
              "4 2              NA        1        \n",
              "5 2              2         1        \n",
              "6 4              1         1        "
            ]
          },
          "metadata": {}
        },
        {
          "output_type": "display_data",
          "data": {
            "text/html": [
              "<table class=\"dataframe\">\n",
              "<caption>A data.frame: 6 × 11</caption>\n",
              "<thead>\n",
              "\t<tr><th></th><th scope=col>SURVEY</th><th scope=col>CASE_ID</th><th scope=col>STATE</th><th scope=col>SQFT_BINNED</th><th scope=col>EDUC_BINNED</th><th scope=col>INCOME_BINNED</th><th scope=col>PN2</th><th scope=col>STANCE</th><th scope=col>INFLNC_PPLTALK</th><th scope=col>BUY_LEASE</th><th scope=col>Has_Solar</th></tr>\n",
              "\t<tr><th></th><th scope=col>&lt;chr&gt;</th><th scope=col>&lt;int&gt;</th><th scope=col>&lt;fct&gt;</th><th scope=col>&lt;fct&gt;</th><th scope=col>&lt;fct&gt;</th><th scope=col>&lt;fct&gt;</th><th scope=col>&lt;fct&gt;</th><th scope=col>&lt;fct&gt;</th><th scope=col>&lt;fct&gt;</th><th scope=col>&lt;fct&gt;</th><th scope=col>&lt;fct&gt;</th></tr>\n",
              "</thead>\n",
              "<tbody>\n",
              "\t<tr><th scope=row>1</th><td>ADOPTER</td><td>1342</td><td>4</td><td>1 </td><td>4 </td><td>5 </td><td>4</td><td>2 </td><td>4</td><td>2 </td><td>1</td></tr>\n",
              "\t<tr><th scope=row>2</th><td>ADOPTER</td><td>1343</td><td>4</td><td>2 </td><td>2 </td><td>4 </td><td>4</td><td>5 </td><td>3</td><td>2 </td><td>1</td></tr>\n",
              "\t<tr><th scope=row>3</th><td>ADOPTER</td><td>1344</td><td>4</td><td>4 </td><td>99</td><td>99</td><td>4</td><td>99</td><td>3</td><td>1 </td><td>1</td></tr>\n",
              "\t<tr><th scope=row>4</th><td>ADOPTER</td><td>1345</td><td>4</td><td>99</td><td>2 </td><td>3 </td><td>1</td><td>5 </td><td>2</td><td>99</td><td>1</td></tr>\n",
              "\t<tr><th scope=row>5</th><td>ADOPTER</td><td>1346</td><td>4</td><td>4 </td><td>2 </td><td>1 </td><td>3</td><td>3 </td><td>2</td><td>2 </td><td>1</td></tr>\n",
              "\t<tr><th scope=row>6</th><td>ADOPTER</td><td>1347</td><td>4</td><td>2 </td><td>3 </td><td>99</td><td>5</td><td>3 </td><td>4</td><td>1 </td><td>1</td></tr>\n",
              "</tbody>\n",
              "</table>\n"
            ],
            "text/markdown": "\nA data.frame: 6 × 11\n\n| <!--/--> | SURVEY &lt;chr&gt; | CASE_ID &lt;int&gt; | STATE &lt;fct&gt; | SQFT_BINNED &lt;fct&gt; | EDUC_BINNED &lt;fct&gt; | INCOME_BINNED &lt;fct&gt; | PN2 &lt;fct&gt; | STANCE &lt;fct&gt; | INFLNC_PPLTALK &lt;fct&gt; | BUY_LEASE &lt;fct&gt; | Has_Solar &lt;fct&gt; |\n|---|---|---|---|---|---|---|---|---|---|---|---|\n| 1 | ADOPTER | 1342 | 4 | 1  | 4  | 5  | 4 | 2  | 4 | 2  | 1 |\n| 2 | ADOPTER | 1343 | 4 | 2  | 2  | 4  | 4 | 5  | 3 | 2  | 1 |\n| 3 | ADOPTER | 1344 | 4 | 4  | 99 | 99 | 4 | 99 | 3 | 1  | 1 |\n| 4 | ADOPTER | 1345 | 4 | 99 | 2  | 3  | 1 | 5  | 2 | 99 | 1 |\n| 5 | ADOPTER | 1346 | 4 | 4  | 2  | 1  | 3 | 3  | 2 | 2  | 1 |\n| 6 | ADOPTER | 1347 | 4 | 2  | 3  | 99 | 5 | 3  | 4 | 1  | 1 |\n\n",
            "text/latex": "A data.frame: 6 × 11\n\\begin{tabular}{r|lllllllllll}\n  & SURVEY & CASE\\_ID & STATE & SQFT\\_BINNED & EDUC\\_BINNED & INCOME\\_BINNED & PN2 & STANCE & INFLNC\\_PPLTALK & BUY\\_LEASE & Has\\_Solar\\\\\n  & <chr> & <int> & <fct> & <fct> & <fct> & <fct> & <fct> & <fct> & <fct> & <fct> & <fct>\\\\\n\\hline\n\t1 & ADOPTER & 1342 & 4 & 1  & 4  & 5  & 4 & 2  & 4 & 2  & 1\\\\\n\t2 & ADOPTER & 1343 & 4 & 2  & 2  & 4  & 4 & 5  & 3 & 2  & 1\\\\\n\t3 & ADOPTER & 1344 & 4 & 4  & 99 & 99 & 4 & 99 & 3 & 1  & 1\\\\\n\t4 & ADOPTER & 1345 & 4 & 99 & 2  & 3  & 1 & 5  & 2 & 99 & 1\\\\\n\t5 & ADOPTER & 1346 & 4 & 4  & 2  & 1  & 3 & 3  & 2 & 2  & 1\\\\\n\t6 & ADOPTER & 1347 & 4 & 2  & 3  & 99 & 5 & 3  & 4 & 1  & 1\\\\\n\\end{tabular}\n",
            "text/plain": [
              "  SURVEY  CASE_ID STATE SQFT_BINNED EDUC_BINNED INCOME_BINNED PN2 STANCE\n",
              "1 ADOPTER 1342    4     1           4           5             4   2     \n",
              "2 ADOPTER 1343    4     2           2           4             4   5     \n",
              "3 ADOPTER 1344    4     4           99          99            4   99    \n",
              "4 ADOPTER 1345    4     99          2           3             1   5     \n",
              "5 ADOPTER 1346    4     4           2           1             3   3     \n",
              "6 ADOPTER 1347    4     2           3           99            5   3     \n",
              "  INFLNC_PPLTALK BUY_LEASE Has_Solar\n",
              "1 4              2         1        \n",
              "2 3              2         1        \n",
              "3 3              1         1        \n",
              "4 2              99        1        \n",
              "5 2              2         1        \n",
              "6 4              1         1        "
            ]
          },
          "metadata": {}
        },
        {
          "output_type": "display_data",
          "data": {
            "text/html": [
              "<table class=\"dataframe\">\n",
              "<caption>A data.frame: 6 × 11</caption>\n",
              "<thead>\n",
              "\t<tr><th></th><th scope=col>SURVEY</th><th scope=col>CASE_ID</th><th scope=col>STATE</th><th scope=col>SQFT_BINNED</th><th scope=col>EDUC_BINNED</th><th scope=col>INCOME_BINNED</th><th scope=col>PN2</th><th scope=col>STANCE</th><th scope=col>INFLNC_PPLTALK</th><th scope=col>BUY_LEASE</th><th scope=col>Has_Solar</th></tr>\n",
              "\t<tr><th></th><th scope=col>&lt;chr&gt;</th><th scope=col>&lt;int&gt;</th><th scope=col>&lt;fct&gt;</th><th scope=col>&lt;fct&gt;</th><th scope=col>&lt;fct&gt;</th><th scope=col>&lt;fct&gt;</th><th scope=col>&lt;fct&gt;</th><th scope=col>&lt;fct&gt;</th><th scope=col>&lt;fct&gt;</th><th scope=col>&lt;fct&gt;</th><th scope=col>&lt;fct&gt;</th></tr>\n",
              "</thead>\n",
              "<tbody>\n",
              "\t<tr><th scope=row>1</th><td>ADOPTER</td><td>1342</td><td>4</td><td>1</td><td>4</td><td>5</td><td>4</td><td>2</td><td>4</td><td>2 </td><td>1</td></tr>\n",
              "\t<tr><th scope=row>2</th><td>ADOPTER</td><td>1343</td><td>4</td><td>2</td><td>2</td><td>4</td><td>4</td><td>5</td><td>3</td><td>2 </td><td>1</td></tr>\n",
              "\t<tr><th scope=row>3</th><td>ADOPTER</td><td>1344</td><td>4</td><td>4</td><td>2</td><td>4</td><td>4</td><td>3</td><td>3</td><td>1 </td><td>1</td></tr>\n",
              "\t<tr><th scope=row>4</th><td>ADOPTER</td><td>1345</td><td>4</td><td>2</td><td>2</td><td>3</td><td>1</td><td>5</td><td>2</td><td>NA</td><td>1</td></tr>\n",
              "\t<tr><th scope=row>5</th><td>ADOPTER</td><td>1346</td><td>4</td><td>4</td><td>2</td><td>1</td><td>3</td><td>3</td><td>2</td><td>2 </td><td>1</td></tr>\n",
              "\t<tr><th scope=row>6</th><td>ADOPTER</td><td>1347</td><td>4</td><td>2</td><td>3</td><td>4</td><td>5</td><td>3</td><td>4</td><td>1 </td><td>1</td></tr>\n",
              "</tbody>\n",
              "</table>\n"
            ],
            "text/markdown": "\nA data.frame: 6 × 11\n\n| <!--/--> | SURVEY &lt;chr&gt; | CASE_ID &lt;int&gt; | STATE &lt;fct&gt; | SQFT_BINNED &lt;fct&gt; | EDUC_BINNED &lt;fct&gt; | INCOME_BINNED &lt;fct&gt; | PN2 &lt;fct&gt; | STANCE &lt;fct&gt; | INFLNC_PPLTALK &lt;fct&gt; | BUY_LEASE &lt;fct&gt; | Has_Solar &lt;fct&gt; |\n|---|---|---|---|---|---|---|---|---|---|---|---|\n| 1 | ADOPTER | 1342 | 4 | 1 | 4 | 5 | 4 | 2 | 4 | 2  | 1 |\n| 2 | ADOPTER | 1343 | 4 | 2 | 2 | 4 | 4 | 5 | 3 | 2  | 1 |\n| 3 | ADOPTER | 1344 | 4 | 4 | 2 | 4 | 4 | 3 | 3 | 1  | 1 |\n| 4 | ADOPTER | 1345 | 4 | 2 | 2 | 3 | 1 | 5 | 2 | NA | 1 |\n| 5 | ADOPTER | 1346 | 4 | 4 | 2 | 1 | 3 | 3 | 2 | 2  | 1 |\n| 6 | ADOPTER | 1347 | 4 | 2 | 3 | 4 | 5 | 3 | 4 | 1  | 1 |\n\n",
            "text/latex": "A data.frame: 6 × 11\n\\begin{tabular}{r|lllllllllll}\n  & SURVEY & CASE\\_ID & STATE & SQFT\\_BINNED & EDUC\\_BINNED & INCOME\\_BINNED & PN2 & STANCE & INFLNC\\_PPLTALK & BUY\\_LEASE & Has\\_Solar\\\\\n  & <chr> & <int> & <fct> & <fct> & <fct> & <fct> & <fct> & <fct> & <fct> & <fct> & <fct>\\\\\n\\hline\n\t1 & ADOPTER & 1342 & 4 & 1 & 4 & 5 & 4 & 2 & 4 & 2  & 1\\\\\n\t2 & ADOPTER & 1343 & 4 & 2 & 2 & 4 & 4 & 5 & 3 & 2  & 1\\\\\n\t3 & ADOPTER & 1344 & 4 & 4 & 2 & 4 & 4 & 3 & 3 & 1  & 1\\\\\n\t4 & ADOPTER & 1345 & 4 & 2 & 2 & 3 & 1 & 5 & 2 & NA & 1\\\\\n\t5 & ADOPTER & 1346 & 4 & 4 & 2 & 1 & 3 & 3 & 2 & 2  & 1\\\\\n\t6 & ADOPTER & 1347 & 4 & 2 & 3 & 4 & 5 & 3 & 4 & 1  & 1\\\\\n\\end{tabular}\n",
            "text/plain": [
              "  SURVEY  CASE_ID STATE SQFT_BINNED EDUC_BINNED INCOME_BINNED PN2 STANCE\n",
              "1 ADOPTER 1342    4     1           4           5             4   2     \n",
              "2 ADOPTER 1343    4     2           2           4             4   5     \n",
              "3 ADOPTER 1344    4     4           2           4             4   3     \n",
              "4 ADOPTER 1345    4     2           2           3             1   5     \n",
              "5 ADOPTER 1346    4     4           2           1             3   3     \n",
              "6 ADOPTER 1347    4     2           3           4             5   3     \n",
              "  INFLNC_PPLTALK BUY_LEASE Has_Solar\n",
              "1 4              2         1        \n",
              "2 3              2         1        \n",
              "3 3              1         1        \n",
              "4 2              NA        1        \n",
              "5 2              2         1        \n",
              "6 4              1         1        "
            ]
          },
          "metadata": {}
        }
      ]
    },
    {
      "cell_type": "markdown",
      "source": [
        "## Net Generation of Solar Dataset: "
      ],
      "metadata": {
        "id": "Q7nDRAgUVJ-o"
      }
    },
    {
      "cell_type": "code",
      "source": [
        "generation_data = read.csv(\"https://www.dropbox.com/s/0m9u4iibkxu2b1r/Net%20Generation%20Cleaned%20CSV.csv?dl=1\")\n",
        "head(generation_data)\n",
        "tail(generation_data)\n",
        "str(generation_data)\n",
        "\n",
        "# Change the format for month column and datatype to Date\n",
        "\n",
        "generation_data$Month <- as.Date(paste0(\"01-\", generation_data$Month), format = \"%d-%b-%y\")\n",
        "new_names <- c(\"Month\",paste0(\"Net_Gen_\", names(generation_data)[-1]))\n",
        "names(generation_data) <- new_names\n",
        "\n",
        "head(generation_data)\n",
        "str(generation_data)"
      ],
      "metadata": {
        "id": "O_gXMEVeZFM0",
        "colab": {
          "base_uri": "https://localhost:8080/",
          "height": 1000
        },
        "outputId": "9a6fc10b-3547-44de-8f0d-4eb4a7f99b75"
      },
      "execution_count": null,
      "outputs": [
        {
          "output_type": "display_data",
          "data": {
            "text/html": [
              "<table class=\"dataframe\">\n",
              "<caption>A data.frame: 6 × 5</caption>\n",
              "<thead>\n",
              "\t<tr><th></th><th scope=col>Month</th><th scope=col>New.York</th><th scope=col>New.Jersey</th><th scope=col>California</th><th scope=col>Arizona</th></tr>\n",
              "\t<tr><th></th><th scope=col>&lt;chr&gt;</th><th scope=col>&lt;int&gt;</th><th scope=col>&lt;int&gt;</th><th scope=col>&lt;int&gt;</th><th scope=col>&lt;int&gt;</th></tr>\n",
              "</thead>\n",
              "<tbody>\n",
              "\t<tr><th scope=row>1</th><td>Jan-14</td><td> 7</td><td>16</td><td>126</td><td>34</td></tr>\n",
              "\t<tr><th scope=row>2</th><td>Feb-14</td><td> 8</td><td>18</td><td>131</td><td>33</td></tr>\n",
              "\t<tr><th scope=row>3</th><td>Mar-14</td><td>11</td><td>24</td><td>191</td><td>43</td></tr>\n",
              "\t<tr><th scope=row>4</th><td>Apr-14</td><td>13</td><td>25</td><td>210</td><td>46</td></tr>\n",
              "\t<tr><th scope=row>5</th><td>May-14</td><td>15</td><td>28</td><td>236</td><td>50</td></tr>\n",
              "\t<tr><th scope=row>6</th><td>Jun-14</td><td>16</td><td>28</td><td>242</td><td>48</td></tr>\n",
              "</tbody>\n",
              "</table>\n"
            ],
            "text/markdown": "\nA data.frame: 6 × 5\n\n| <!--/--> | Month &lt;chr&gt; | New.York &lt;int&gt; | New.Jersey &lt;int&gt; | California &lt;int&gt; | Arizona &lt;int&gt; |\n|---|---|---|---|---|---|\n| 1 | Jan-14 |  7 | 16 | 126 | 34 |\n| 2 | Feb-14 |  8 | 18 | 131 | 33 |\n| 3 | Mar-14 | 11 | 24 | 191 | 43 |\n| 4 | Apr-14 | 13 | 25 | 210 | 46 |\n| 5 | May-14 | 15 | 28 | 236 | 50 |\n| 6 | Jun-14 | 16 | 28 | 242 | 48 |\n\n",
            "text/latex": "A data.frame: 6 × 5\n\\begin{tabular}{r|lllll}\n  & Month & New.York & New.Jersey & California & Arizona\\\\\n  & <chr> & <int> & <int> & <int> & <int>\\\\\n\\hline\n\t1 & Jan-14 &  7 & 16 & 126 & 34\\\\\n\t2 & Feb-14 &  8 & 18 & 131 & 33\\\\\n\t3 & Mar-14 & 11 & 24 & 191 & 43\\\\\n\t4 & Apr-14 & 13 & 25 & 210 & 46\\\\\n\t5 & May-14 & 15 & 28 & 236 & 50\\\\\n\t6 & Jun-14 & 16 & 28 & 242 & 48\\\\\n\\end{tabular}\n",
            "text/plain": [
              "  Month  New.York New.Jersey California Arizona\n",
              "1 Jan-14  7       16         126        34     \n",
              "2 Feb-14  8       18         131        33     \n",
              "3 Mar-14 11       24         191        43     \n",
              "4 Apr-14 13       25         210        46     \n",
              "5 May-14 15       28         236        50     \n",
              "6 Jun-14 16       28         242        48     "
            ]
          },
          "metadata": {}
        },
        {
          "output_type": "display_data",
          "data": {
            "text/html": [
              "<table class=\"dataframe\">\n",
              "<caption>A data.frame: 6 × 5</caption>\n",
              "<thead>\n",
              "\t<tr><th></th><th scope=col>Month</th><th scope=col>New.York</th><th scope=col>New.Jersey</th><th scope=col>California</th><th scope=col>Arizona</th></tr>\n",
              "\t<tr><th></th><th scope=col>&lt;chr&gt;</th><th scope=col>&lt;int&gt;</th><th scope=col>&lt;int&gt;</th><th scope=col>&lt;int&gt;</th><th scope=col>&lt;int&gt;</th></tr>\n",
              "</thead>\n",
              "<tbody>\n",
              "\t<tr><th scope=row>103</th><td>Jul-22</td><td>163</td><td>153</td><td>1581</td><td>258</td></tr>\n",
              "\t<tr><th scope=row>104</th><td>Aug-22</td><td>152</td><td>146</td><td>1520</td><td>253</td></tr>\n",
              "\t<tr><th scope=row>105</th><td>Sep-22</td><td>128</td><td>124</td><td>1352</td><td>240</td></tr>\n",
              "\t<tr><th scope=row>106</th><td>Oct-22</td><td>103</td><td> 99</td><td>1290</td><td>244</td></tr>\n",
              "\t<tr><th scope=row>107</th><td>Nov-22</td><td> 77</td><td> 82</td><td>1023</td><td>213</td></tr>\n",
              "\t<tr><th scope=row>108</th><td>Dec-22</td><td> 72</td><td> 72</td><td> 877</td><td>200</td></tr>\n",
              "</tbody>\n",
              "</table>\n"
            ],
            "text/markdown": "\nA data.frame: 6 × 5\n\n| <!--/--> | Month &lt;chr&gt; | New.York &lt;int&gt; | New.Jersey &lt;int&gt; | California &lt;int&gt; | Arizona &lt;int&gt; |\n|---|---|---|---|---|---|\n| 103 | Jul-22 | 163 | 153 | 1581 | 258 |\n| 104 | Aug-22 | 152 | 146 | 1520 | 253 |\n| 105 | Sep-22 | 128 | 124 | 1352 | 240 |\n| 106 | Oct-22 | 103 |  99 | 1290 | 244 |\n| 107 | Nov-22 |  77 |  82 | 1023 | 213 |\n| 108 | Dec-22 |  72 |  72 |  877 | 200 |\n\n",
            "text/latex": "A data.frame: 6 × 5\n\\begin{tabular}{r|lllll}\n  & Month & New.York & New.Jersey & California & Arizona\\\\\n  & <chr> & <int> & <int> & <int> & <int>\\\\\n\\hline\n\t103 & Jul-22 & 163 & 153 & 1581 & 258\\\\\n\t104 & Aug-22 & 152 & 146 & 1520 & 253\\\\\n\t105 & Sep-22 & 128 & 124 & 1352 & 240\\\\\n\t106 & Oct-22 & 103 &  99 & 1290 & 244\\\\\n\t107 & Nov-22 &  77 &  82 & 1023 & 213\\\\\n\t108 & Dec-22 &  72 &  72 &  877 & 200\\\\\n\\end{tabular}\n",
            "text/plain": [
              "    Month  New.York New.Jersey California Arizona\n",
              "103 Jul-22 163      153        1581       258    \n",
              "104 Aug-22 152      146        1520       253    \n",
              "105 Sep-22 128      124        1352       240    \n",
              "106 Oct-22 103       99        1290       244    \n",
              "107 Nov-22  77       82        1023       213    \n",
              "108 Dec-22  72       72         877       200    "
            ]
          },
          "metadata": {}
        },
        {
          "output_type": "stream",
          "name": "stdout",
          "text": [
            "'data.frame':\t108 obs. of  5 variables:\n",
            " $ Month     : chr  \"Jan-14\" \"Feb-14\" \"Mar-14\" \"Apr-14\" ...\n",
            " $ New.York  : int  7 8 11 13 15 16 18 17 17 15 ...\n",
            " $ New.Jersey: int  16 18 24 25 28 28 30 29 26 23 ...\n",
            " $ California: int  126 131 191 210 236 242 257 259 243 231 ...\n",
            " $ Arizona   : int  34 33 43 46 50 48 47 48 47 49 ...\n"
          ]
        },
        {
          "output_type": "display_data",
          "data": {
            "text/html": [
              "<table class=\"dataframe\">\n",
              "<caption>A data.frame: 6 × 5</caption>\n",
              "<thead>\n",
              "\t<tr><th></th><th scope=col>Month</th><th scope=col>Net_Gen_New.York</th><th scope=col>Net_Gen_New.Jersey</th><th scope=col>Net_Gen_California</th><th scope=col>Net_Gen_Arizona</th></tr>\n",
              "\t<tr><th></th><th scope=col>&lt;date&gt;</th><th scope=col>&lt;int&gt;</th><th scope=col>&lt;int&gt;</th><th scope=col>&lt;int&gt;</th><th scope=col>&lt;int&gt;</th></tr>\n",
              "</thead>\n",
              "<tbody>\n",
              "\t<tr><th scope=row>1</th><td>2014-01-01</td><td> 7</td><td>16</td><td>126</td><td>34</td></tr>\n",
              "\t<tr><th scope=row>2</th><td>2014-02-01</td><td> 8</td><td>18</td><td>131</td><td>33</td></tr>\n",
              "\t<tr><th scope=row>3</th><td>2014-03-01</td><td>11</td><td>24</td><td>191</td><td>43</td></tr>\n",
              "\t<tr><th scope=row>4</th><td>2014-04-01</td><td>13</td><td>25</td><td>210</td><td>46</td></tr>\n",
              "\t<tr><th scope=row>5</th><td>2014-05-01</td><td>15</td><td>28</td><td>236</td><td>50</td></tr>\n",
              "\t<tr><th scope=row>6</th><td>2014-06-01</td><td>16</td><td>28</td><td>242</td><td>48</td></tr>\n",
              "</tbody>\n",
              "</table>\n"
            ],
            "text/markdown": "\nA data.frame: 6 × 5\n\n| <!--/--> | Month &lt;date&gt; | Net_Gen_New.York &lt;int&gt; | Net_Gen_New.Jersey &lt;int&gt; | Net_Gen_California &lt;int&gt; | Net_Gen_Arizona &lt;int&gt; |\n|---|---|---|---|---|---|\n| 1 | 2014-01-01 |  7 | 16 | 126 | 34 |\n| 2 | 2014-02-01 |  8 | 18 | 131 | 33 |\n| 3 | 2014-03-01 | 11 | 24 | 191 | 43 |\n| 4 | 2014-04-01 | 13 | 25 | 210 | 46 |\n| 5 | 2014-05-01 | 15 | 28 | 236 | 50 |\n| 6 | 2014-06-01 | 16 | 28 | 242 | 48 |\n\n",
            "text/latex": "A data.frame: 6 × 5\n\\begin{tabular}{r|lllll}\n  & Month & Net\\_Gen\\_New.York & Net\\_Gen\\_New.Jersey & Net\\_Gen\\_California & Net\\_Gen\\_Arizona\\\\\n  & <date> & <int> & <int> & <int> & <int>\\\\\n\\hline\n\t1 & 2014-01-01 &  7 & 16 & 126 & 34\\\\\n\t2 & 2014-02-01 &  8 & 18 & 131 & 33\\\\\n\t3 & 2014-03-01 & 11 & 24 & 191 & 43\\\\\n\t4 & 2014-04-01 & 13 & 25 & 210 & 46\\\\\n\t5 & 2014-05-01 & 15 & 28 & 236 & 50\\\\\n\t6 & 2014-06-01 & 16 & 28 & 242 & 48\\\\\n\\end{tabular}\n",
            "text/plain": [
              "  Month      Net_Gen_New.York Net_Gen_New.Jersey Net_Gen_California\n",
              "1 2014-01-01  7               16                 126               \n",
              "2 2014-02-01  8               18                 131               \n",
              "3 2014-03-01 11               24                 191               \n",
              "4 2014-04-01 13               25                 210               \n",
              "5 2014-05-01 15               28                 236               \n",
              "6 2014-06-01 16               28                 242               \n",
              "  Net_Gen_Arizona\n",
              "1 34             \n",
              "2 33             \n",
              "3 43             \n",
              "4 46             \n",
              "5 50             \n",
              "6 48             "
            ]
          },
          "metadata": {}
        },
        {
          "output_type": "stream",
          "name": "stdout",
          "text": [
            "'data.frame':\t108 obs. of  5 variables:\n",
            " $ Month             : Date, format: \"2014-01-01\" \"2014-02-01\" ...\n",
            " $ Net_Gen_New.York  : int  7 8 11 13 15 16 18 17 17 15 ...\n",
            " $ Net_Gen_New.Jersey: int  16 18 24 25 28 28 30 29 26 23 ...\n",
            " $ Net_Gen_California: int  126 131 191 210 236 242 257 259 243 231 ...\n",
            " $ Net_Gen_Arizona   : int  34 33 43 46 50 48 47 48 47 49 ...\n"
          ]
        }
      ]
    },
    {
      "cell_type": "markdown",
      "source": [
        "## Average Retail Price Dataset: "
      ],
      "metadata": {
        "id": "5XK71NezWEhh"
      }
    },
    {
      "cell_type": "code",
      "source": [
        "price_data = read.csv(\"https://www.dropbox.com/s/n6k9qbuc0c5dkwy/Retail%20Price%20Cleaned%20CSV.csv?dl=1\")\n",
        "price_data = price_data[, -6] # Remove the United States column\n",
        "\n",
        "head(price_data)\n",
        "tail(price_data)\n",
        "str(price_data)\n",
        "\n",
        "# Change the format for month column and datatype to Date\n",
        "price_data$Month <- as.Date(paste0(\"01-\", price_data$Month), format = \"%d-%b-%y\")\n",
        "price_data <- price_data[price_data$Month >= as.Date(\"2014-01-01\"), ] \n",
        "new_names <- c(\"Month\",paste0(\"Price_\", names(price_data)[-1]))\n",
        "names(price_data) <- new_names\n",
        "# Convert cents per KiloWatthour to dollar per MegaWatthour\n",
        "price_data[, 2:5] <- price_data[, 2:5] * 10       \n",
        "\n",
        "head(price_data)\n",
        "str(price_data)"
      ],
      "metadata": {
        "id": "XuVz8EJOWkVu",
        "colab": {
          "base_uri": "https://localhost:8080/",
          "height": 1000
        },
        "outputId": "7434057f-b2e7-450f-ed55-7c6e948fb74e"
      },
      "execution_count": null,
      "outputs": [
        {
          "output_type": "display_data",
          "data": {
            "text/html": [
              "<table class=\"dataframe\">\n",
              "<caption>A data.frame: 6 × 5</caption>\n",
              "<thead>\n",
              "\t<tr><th></th><th scope=col>Month</th><th scope=col>New.York</th><th scope=col>New.Jersey</th><th scope=col>California</th><th scope=col>Arizona</th></tr>\n",
              "\t<tr><th></th><th scope=col>&lt;chr&gt;</th><th scope=col>&lt;dbl&gt;</th><th scope=col>&lt;dbl&gt;</th><th scope=col>&lt;dbl&gt;</th><th scope=col>&lt;dbl&gt;</th></tr>\n",
              "</thead>\n",
              "<tbody>\n",
              "\t<tr><th scope=row>1</th><td>Jan-01</td><td>13.89</td><td> 9.62</td><td>10.89</td><td>6.99</td></tr>\n",
              "\t<tr><th scope=row>2</th><td>Feb-01</td><td>13.93</td><td> 9.34</td><td>11.14</td><td>7.13</td></tr>\n",
              "\t<tr><th scope=row>3</th><td>Mar-01</td><td>13.58</td><td> 9.79</td><td>11.29</td><td>7.40</td></tr>\n",
              "\t<tr><th scope=row>4</th><td>Apr-01</td><td>13.44</td><td> 9.90</td><td>11.14</td><td>8.09</td></tr>\n",
              "\t<tr><th scope=row>5</th><td>May-01</td><td>14.01</td><td> 9.92</td><td>11.97</td><td>9.41</td></tr>\n",
              "\t<tr><th scope=row>6</th><td>Jun-01</td><td>14.41</td><td>10.86</td><td>12.87</td><td>9.04</td></tr>\n",
              "</tbody>\n",
              "</table>\n"
            ],
            "text/markdown": "\nA data.frame: 6 × 5\n\n| <!--/--> | Month &lt;chr&gt; | New.York &lt;dbl&gt; | New.Jersey &lt;dbl&gt; | California &lt;dbl&gt; | Arizona &lt;dbl&gt; |\n|---|---|---|---|---|---|\n| 1 | Jan-01 | 13.89 |  9.62 | 10.89 | 6.99 |\n| 2 | Feb-01 | 13.93 |  9.34 | 11.14 | 7.13 |\n| 3 | Mar-01 | 13.58 |  9.79 | 11.29 | 7.40 |\n| 4 | Apr-01 | 13.44 |  9.90 | 11.14 | 8.09 |\n| 5 | May-01 | 14.01 |  9.92 | 11.97 | 9.41 |\n| 6 | Jun-01 | 14.41 | 10.86 | 12.87 | 9.04 |\n\n",
            "text/latex": "A data.frame: 6 × 5\n\\begin{tabular}{r|lllll}\n  & Month & New.York & New.Jersey & California & Arizona\\\\\n  & <chr> & <dbl> & <dbl> & <dbl> & <dbl>\\\\\n\\hline\n\t1 & Jan-01 & 13.89 &  9.62 & 10.89 & 6.99\\\\\n\t2 & Feb-01 & 13.93 &  9.34 & 11.14 & 7.13\\\\\n\t3 & Mar-01 & 13.58 &  9.79 & 11.29 & 7.40\\\\\n\t4 & Apr-01 & 13.44 &  9.90 & 11.14 & 8.09\\\\\n\t5 & May-01 & 14.01 &  9.92 & 11.97 & 9.41\\\\\n\t6 & Jun-01 & 14.41 & 10.86 & 12.87 & 9.04\\\\\n\\end{tabular}\n",
            "text/plain": [
              "  Month  New.York New.Jersey California Arizona\n",
              "1 Jan-01 13.89     9.62      10.89      6.99   \n",
              "2 Feb-01 13.93     9.34      11.14      7.13   \n",
              "3 Mar-01 13.58     9.79      11.29      7.40   \n",
              "4 Apr-01 13.44     9.90      11.14      8.09   \n",
              "5 May-01 14.01     9.92      11.97      9.41   \n",
              "6 Jun-01 14.41    10.86      12.87      9.04   "
            ]
          },
          "metadata": {}
        },
        {
          "output_type": "display_data",
          "data": {
            "text/html": [
              "<table class=\"dataframe\">\n",
              "<caption>A data.frame: 6 × 5</caption>\n",
              "<thead>\n",
              "\t<tr><th></th><th scope=col>Month</th><th scope=col>New.York</th><th scope=col>New.Jersey</th><th scope=col>California</th><th scope=col>Arizona</th></tr>\n",
              "\t<tr><th></th><th scope=col>&lt;chr&gt;</th><th scope=col>&lt;dbl&gt;</th><th scope=col>&lt;dbl&gt;</th><th scope=col>&lt;dbl&gt;</th><th scope=col>&lt;dbl&gt;</th></tr>\n",
              "</thead>\n",
              "<tbody>\n",
              "\t<tr><th scope=row>259</th><td>Jul-22</td><td>21.88</td><td>17.14</td><td>26.75</td><td>13.07</td></tr>\n",
              "\t<tr><th scope=row>260</th><td>Aug-22</td><td>21.19</td><td>17.28</td><td>27.21</td><td>13.18</td></tr>\n",
              "\t<tr><th scope=row>261</th><td>Sep-22</td><td>23.95</td><td>16.65</td><td>26.57</td><td>13.27</td></tr>\n",
              "\t<tr><th scope=row>262</th><td>Oct-22</td><td>23.27</td><td>16.39</td><td>25.02</td><td>13.10</td></tr>\n",
              "\t<tr><th scope=row>263</th><td>Nov-22</td><td>23.66</td><td>16.24</td><td>26.05</td><td>13.10</td></tr>\n",
              "\t<tr><th scope=row>264</th><td>Dec-22</td><td>22.79</td><td>16.72</td><td>24.46</td><td>12.56</td></tr>\n",
              "</tbody>\n",
              "</table>\n"
            ],
            "text/markdown": "\nA data.frame: 6 × 5\n\n| <!--/--> | Month &lt;chr&gt; | New.York &lt;dbl&gt; | New.Jersey &lt;dbl&gt; | California &lt;dbl&gt; | Arizona &lt;dbl&gt; |\n|---|---|---|---|---|---|\n| 259 | Jul-22 | 21.88 | 17.14 | 26.75 | 13.07 |\n| 260 | Aug-22 | 21.19 | 17.28 | 27.21 | 13.18 |\n| 261 | Sep-22 | 23.95 | 16.65 | 26.57 | 13.27 |\n| 262 | Oct-22 | 23.27 | 16.39 | 25.02 | 13.10 |\n| 263 | Nov-22 | 23.66 | 16.24 | 26.05 | 13.10 |\n| 264 | Dec-22 | 22.79 | 16.72 | 24.46 | 12.56 |\n\n",
            "text/latex": "A data.frame: 6 × 5\n\\begin{tabular}{r|lllll}\n  & Month & New.York & New.Jersey & California & Arizona\\\\\n  & <chr> & <dbl> & <dbl> & <dbl> & <dbl>\\\\\n\\hline\n\t259 & Jul-22 & 21.88 & 17.14 & 26.75 & 13.07\\\\\n\t260 & Aug-22 & 21.19 & 17.28 & 27.21 & 13.18\\\\\n\t261 & Sep-22 & 23.95 & 16.65 & 26.57 & 13.27\\\\\n\t262 & Oct-22 & 23.27 & 16.39 & 25.02 & 13.10\\\\\n\t263 & Nov-22 & 23.66 & 16.24 & 26.05 & 13.10\\\\\n\t264 & Dec-22 & 22.79 & 16.72 & 24.46 & 12.56\\\\\n\\end{tabular}\n",
            "text/plain": [
              "    Month  New.York New.Jersey California Arizona\n",
              "259 Jul-22 21.88    17.14      26.75      13.07  \n",
              "260 Aug-22 21.19    17.28      27.21      13.18  \n",
              "261 Sep-22 23.95    16.65      26.57      13.27  \n",
              "262 Oct-22 23.27    16.39      25.02      13.10  \n",
              "263 Nov-22 23.66    16.24      26.05      13.10  \n",
              "264 Dec-22 22.79    16.72      24.46      12.56  "
            ]
          },
          "metadata": {}
        },
        {
          "output_type": "stream",
          "name": "stdout",
          "text": [
            "'data.frame':\t264 obs. of  5 variables:\n",
            " $ Month     : chr  \"Jan-01\" \"Feb-01\" \"Mar-01\" \"Apr-01\" ...\n",
            " $ New.York  : num  13.9 13.9 13.6 13.4 14 ...\n",
            " $ New.Jersey: num  9.62 9.34 9.79 9.9 9.92 ...\n",
            " $ California: num  10.9 11.1 11.3 11.1 12 ...\n",
            " $ Arizona   : num  6.99 7.13 7.4 8.09 9.41 9.04 8.84 8.84 8.81 8.95 ...\n"
          ]
        },
        {
          "output_type": "display_data",
          "data": {
            "text/html": [
              "<table class=\"dataframe\">\n",
              "<caption>A data.frame: 6 × 5</caption>\n",
              "<thead>\n",
              "\t<tr><th></th><th scope=col>Month</th><th scope=col>Price_New.York</th><th scope=col>Price_New.Jersey</th><th scope=col>Price_California</th><th scope=col>Price_Arizona</th></tr>\n",
              "\t<tr><th></th><th scope=col>&lt;date&gt;</th><th scope=col>&lt;dbl&gt;</th><th scope=col>&lt;dbl&gt;</th><th scope=col>&lt;dbl&gt;</th><th scope=col>&lt;dbl&gt;</th></tr>\n",
              "</thead>\n",
              "<tbody>\n",
              "\t<tr><th scope=row>157</th><td>2014-01-01</td><td>195.7</td><td>152.2</td><td>165.7</td><td>108.3</td></tr>\n",
              "\t<tr><th scope=row>158</th><td>2014-02-01</td><td>216.9</td><td>156.3</td><td>161.1</td><td>111.3</td></tr>\n",
              "\t<tr><th scope=row>159</th><td>2014-03-01</td><td>209.0</td><td>158.8</td><td>158.6</td><td>112.2</td></tr>\n",
              "\t<tr><th scope=row>160</th><td>2014-04-01</td><td>195.4</td><td>156.9</td><td>101.2</td><td>118.8</td></tr>\n",
              "\t<tr><th scope=row>161</th><td>2014-05-01</td><td>205.9</td><td>154.5</td><td>164.6</td><td>125.2</td></tr>\n",
              "\t<tr><th scope=row>162</th><td>2014-06-01</td><td>208.8</td><td>158.7</td><td>169.0</td><td>123.6</td></tr>\n",
              "</tbody>\n",
              "</table>\n"
            ],
            "text/markdown": "\nA data.frame: 6 × 5\n\n| <!--/--> | Month &lt;date&gt; | Price_New.York &lt;dbl&gt; | Price_New.Jersey &lt;dbl&gt; | Price_California &lt;dbl&gt; | Price_Arizona &lt;dbl&gt; |\n|---|---|---|---|---|---|\n| 157 | 2014-01-01 | 195.7 | 152.2 | 165.7 | 108.3 |\n| 158 | 2014-02-01 | 216.9 | 156.3 | 161.1 | 111.3 |\n| 159 | 2014-03-01 | 209.0 | 158.8 | 158.6 | 112.2 |\n| 160 | 2014-04-01 | 195.4 | 156.9 | 101.2 | 118.8 |\n| 161 | 2014-05-01 | 205.9 | 154.5 | 164.6 | 125.2 |\n| 162 | 2014-06-01 | 208.8 | 158.7 | 169.0 | 123.6 |\n\n",
            "text/latex": "A data.frame: 6 × 5\n\\begin{tabular}{r|lllll}\n  & Month & Price\\_New.York & Price\\_New.Jersey & Price\\_California & Price\\_Arizona\\\\\n  & <date> & <dbl> & <dbl> & <dbl> & <dbl>\\\\\n\\hline\n\t157 & 2014-01-01 & 195.7 & 152.2 & 165.7 & 108.3\\\\\n\t158 & 2014-02-01 & 216.9 & 156.3 & 161.1 & 111.3\\\\\n\t159 & 2014-03-01 & 209.0 & 158.8 & 158.6 & 112.2\\\\\n\t160 & 2014-04-01 & 195.4 & 156.9 & 101.2 & 118.8\\\\\n\t161 & 2014-05-01 & 205.9 & 154.5 & 164.6 & 125.2\\\\\n\t162 & 2014-06-01 & 208.8 & 158.7 & 169.0 & 123.6\\\\\n\\end{tabular}\n",
            "text/plain": [
              "    Month      Price_New.York Price_New.Jersey Price_California Price_Arizona\n",
              "157 2014-01-01 195.7          152.2            165.7            108.3        \n",
              "158 2014-02-01 216.9          156.3            161.1            111.3        \n",
              "159 2014-03-01 209.0          158.8            158.6            112.2        \n",
              "160 2014-04-01 195.4          156.9            101.2            118.8        \n",
              "161 2014-05-01 205.9          154.5            164.6            125.2        \n",
              "162 2014-06-01 208.8          158.7            169.0            123.6        "
            ]
          },
          "metadata": {}
        },
        {
          "output_type": "stream",
          "name": "stdout",
          "text": [
            "'data.frame':\t108 obs. of  5 variables:\n",
            " $ Month           : Date, format: \"2014-01-01\" \"2014-02-01\" ...\n",
            " $ Price_New.York  : num  196 217 209 195 206 ...\n",
            " $ Price_New.Jersey: num  152 156 159 157 154 ...\n",
            " $ Price_California: num  166 161 159 101 165 ...\n",
            " $ Price_Arizona   : num  108 111 112 119 125 ...\n"
          ]
        }
      ]
    },
    {
      "cell_type": "markdown",
      "source": [
        "# Models & Analysis"
      ],
      "metadata": {
        "id": "T3A7zS0pVBe6"
      }
    },
    {
      "cell_type": "markdown",
      "source": [
        "## What factors affect solar adoption the most?  "
      ],
      "metadata": {
        "id": "jxph8yEUWU2X"
      }
    },
    {
      "cell_type": "code",
      "source": [
        "# Model for all missing/withheld data replaced with NA\n",
        "Model_Adopt_NA <- glm(Has_Solar ~ SQFT_BINNED + EDUC_BINNED + INCOME_BINNED + PN2 + STANCE + STATE, data = survey_data, family = \"binomial\")\n",
        "summary(Model_Adopt_NA)"
      ],
      "metadata": {
        "id": "ckRI1q7rZVv8",
        "colab": {
          "base_uri": "https://localhost:8080/",
          "height": 803
        },
        "outputId": "96d68f22-ba6c-47d2-ff6b-d44fa04935f1"
      },
      "execution_count": null,
      "outputs": [
        {
          "output_type": "display_data",
          "data": {
            "text/plain": [
              "\n",
              "Call:\n",
              "glm(formula = Has_Solar ~ SQFT_BINNED + EDUC_BINNED + INCOME_BINNED + \n",
              "    PN2 + STANCE + STATE, family = \"binomial\", data = survey_data)\n",
              "\n",
              "Deviance Residuals: \n",
              "    Min       1Q   Median       3Q      Max  \n",
              "-2.2983  -0.6741  -0.4194   0.8115   2.6873  \n",
              "\n",
              "Coefficients:\n",
              "               Estimate Std. Error z value Pr(>|z|)    \n",
              "(Intercept)    -3.63798    0.42168  -8.627  < 2e-16 ***\n",
              "SQFT_BINNED2    0.63520    0.14575   4.358 1.31e-05 ***\n",
              "SQFT_BINNED3    0.27998    0.16533   1.693 0.090363 .  \n",
              "SQFT_BINNED4    0.13626    0.17140   0.795 0.426627    \n",
              "EDUC_BINNED2    1.03837    0.20773   4.999 5.77e-07 ***\n",
              "EDUC_BINNED3    1.16299    0.21217   5.481 4.22e-08 ***\n",
              "EDUC_BINNED4    0.82045    0.22130   3.707 0.000209 ***\n",
              "INCOME_BINNED2  0.13476    0.18716   0.720 0.471506    \n",
              "INCOME_BINNED3  0.07004    0.19027   0.368 0.712795    \n",
              "INCOME_BINNED4  0.51074    0.18151   2.814 0.004896 ** \n",
              "INCOME_BINNED5  0.79354    0.19964   3.975 7.04e-05 ***\n",
              "PN22           -0.69604    0.28951  -2.404 0.016207 *  \n",
              "PN23           -0.46886    0.22065  -2.125 0.033594 *  \n",
              "PN24           -0.48981    0.21905  -2.236 0.025348 *  \n",
              "PN25            0.63625    0.23531   2.704 0.006854 ** \n",
              "STANCE2         0.15398    0.24794   0.621 0.534584    \n",
              "STANCE3         0.50507    0.23984   2.106 0.035218 *  \n",
              "STANCE4         0.61837    0.24969   2.476 0.013268 *  \n",
              "STANCE5         0.19115    0.30174   0.633 0.526409    \n",
              "STATE2          0.08154    0.21927   0.372 0.709979    \n",
              "STATE3          0.20951    0.21715   0.965 0.334622    \n",
              "STATE4          2.35880    0.17990  13.112  < 2e-16 ***\n",
              "---\n",
              "Signif. codes:  0 ‘***’ 0.001 ‘**’ 0.01 ‘*’ 0.05 ‘.’ 0.1 ‘ ’ 1\n",
              "\n",
              "(Dispersion parameter for binomial family taken to be 1)\n",
              "\n",
              "    Null deviance: 2942.4  on 2226  degrees of freedom\n",
              "Residual deviance: 2183.0  on 2205  degrees of freedom\n",
              "  (1306 observations deleted due to missingness)\n",
              "AIC: 2227\n",
              "\n",
              "Number of Fisher Scoring iterations: 5\n"
            ]
          },
          "metadata": {}
        }
      ]
    },
    {
      "cell_type": "code",
      "source": [
        "# Model for all missing/withheld data replaced with 99\n",
        "Model_Adopt_99 <- glm(Has_Solar ~ SQFT_BINNED + EDUC_BINNED + INCOME_BINNED + PN2 + STANCE + STATE, data = survey_data_99, family = \"binomial\")\n",
        "summary(Model_Adopt_99)"
      ],
      "metadata": {
        "colab": {
          "base_uri": "https://localhost:8080/",
          "height": 874
        },
        "id": "zG_lMF5CIkjQ",
        "outputId": "35694c57-8d86-490d-8499-d2e8c5587d2c"
      },
      "execution_count": null,
      "outputs": [
        {
          "output_type": "display_data",
          "data": {
            "text/plain": [
              "\n",
              "Call:\n",
              "glm(formula = Has_Solar ~ SQFT_BINNED + EDUC_BINNED + INCOME_BINNED + \n",
              "    PN2 + STANCE + STATE, family = \"binomial\", data = survey_data_99)\n",
              "\n",
              "Deviance Residuals: \n",
              "    Min       1Q   Median       3Q      Max  \n",
              "-2.8209  -0.6941  -0.3778   0.8204   2.6397  \n",
              "\n",
              "Coefficients:\n",
              "                Estimate Std. Error z value Pr(>|z|)    \n",
              "(Intercept)      -3.6821     0.3426 -10.748  < 2e-16 ***\n",
              "SQFT_BINNED2      0.5166     0.1207   4.279 1.88e-05 ***\n",
              "SQFT_BINNED3      0.3035     0.1356   2.239 0.025161 *  \n",
              "SQFT_BINNED4      0.1711     0.1391   1.230 0.218595    \n",
              "SQFT_BINNED99     2.2935     0.2050  11.185  < 2e-16 ***\n",
              "EDUC_BINNED2      0.9084     0.1518   5.984 2.18e-09 ***\n",
              "EDUC_BINNED3      0.9062     0.1580   5.734 9.80e-09 ***\n",
              "EDUC_BINNED4      0.7324     0.1635   4.480 7.47e-06 ***\n",
              "EDUC_BINNED99    18.3034   259.4505   0.071 0.943758    \n",
              "INCOME_BINNED2    0.3426     0.1633   2.098 0.035872 *  \n",
              "INCOME_BINNED3    0.1423     0.1662   0.856 0.391729    \n",
              "INCOME_BINNED4    0.6274     0.1591   3.945 7.99e-05 ***\n",
              "INCOME_BINNED5    0.8187     0.1738   4.712 2.46e-06 ***\n",
              "INCOME_BINNED99   1.1469     0.1650   6.950 3.66e-12 ***\n",
              "PN22             -0.5641     0.2303  -2.450 0.014284 *  \n",
              "PN23             -0.2737     0.1791  -1.528 0.126557    \n",
              "PN24             -0.2054     0.1788  -1.148 0.250766    \n",
              "PN25              0.8280     0.1917   4.319 1.57e-05 ***\n",
              "PN299             0.7120     0.3747   1.900 0.057391 .  \n",
              "STANCE2           0.4000     0.2198   1.820 0.068797 .  \n",
              "STANCE3           0.6203     0.2124   2.921 0.003491 ** \n",
              "STANCE4           0.8551     0.2202   3.883 0.000103 ***\n",
              "STANCE5           0.6403     0.2617   2.446 0.014429 *  \n",
              "STANCE99          0.9033     0.2332   3.873 0.000107 ***\n",
              "STATE2           -0.1174     0.1514  -0.775 0.438222    \n",
              "STATE3           -0.1364     0.1627  -0.838 0.402079    \n",
              "STATE4            2.0210     0.1262  16.015  < 2e-16 ***\n",
              "---\n",
              "Signif. codes:  0 ‘***’ 0.001 ‘**’ 0.01 ‘*’ 0.05 ‘.’ 0.1 ‘ ’ 1\n",
              "\n",
              "(Dispersion parameter for binomial family taken to be 1)\n",
              "\n",
              "    Null deviance: 4867.8  on 3532  degrees of freedom\n",
              "Residual deviance: 3406.0  on 3506  degrees of freedom\n",
              "AIC: 3460\n",
              "\n",
              "Number of Fisher Scoring iterations: 16\n"
            ]
          },
          "metadata": {}
        }
      ]
    },
    {
      "cell_type": "code",
      "source": [
        "# Model for all missing/withheld data replaced with the mode of that category\n",
        "Model_Adopt_Mode <- glm(Has_Solar ~ SQFT_BINNED + EDUC_BINNED + INCOME_BINNED + PN2 + STANCE + STATE, data = survey_data_mode, family = \"binomial\")\n",
        "summary(Model_Adopt_Mode)"
      ],
      "metadata": {
        "colab": {
          "base_uri": "https://localhost:8080/",
          "height": 785
        },
        "id": "kHwcmb-fjc-1",
        "outputId": "4761174f-971d-4013-a646-678282559e46"
      },
      "execution_count": null,
      "outputs": [
        {
          "output_type": "display_data",
          "data": {
            "text/plain": [
              "\n",
              "Call:\n",
              "glm(formula = Has_Solar ~ SQFT_BINNED + EDUC_BINNED + INCOME_BINNED + \n",
              "    PN2 + STANCE + STATE, family = \"binomial\", data = survey_data_mode)\n",
              "\n",
              "Deviance Residuals: \n",
              "    Min       1Q   Median       3Q      Max  \n",
              "-2.3780  -0.7818  -0.4134   0.8341   2.5806  \n",
              "\n",
              "Coefficients:\n",
              "               Estimate Std. Error z value Pr(>|z|)    \n",
              "(Intercept)    -3.49801    0.32660 -10.710  < 2e-16 ***\n",
              "SQFT_BINNED2    0.77730    0.11121   6.989 2.76e-12 ***\n",
              "SQFT_BINNED3    0.28837    0.12899   2.236 0.025373 *  \n",
              "SQFT_BINNED4    0.16839    0.13224   1.273 0.202901    \n",
              "EDUC_BINNED2    1.08846    0.14421   7.548 4.42e-14 ***\n",
              "EDUC_BINNED3    0.76844    0.15204   5.054 4.32e-07 ***\n",
              "EDUC_BINNED4    0.62942    0.15734   4.000 6.32e-05 ***\n",
              "INCOME_BINNED2  0.26739    0.15720   1.701 0.088960 .  \n",
              "INCOME_BINNED3  0.15274    0.15883   0.962 0.336209    \n",
              "INCOME_BINNED4  0.93709    0.14024   6.682 2.36e-11 ***\n",
              "INCOME_BINNED5  0.92033    0.16544   5.563 2.65e-08 ***\n",
              "PN22           -0.49400    0.22076  -2.238 0.025237 *  \n",
              "PN23           -0.30386    0.17257  -1.761 0.078274 .  \n",
              "PN24           -0.14388    0.17123  -0.840 0.400730    \n",
              "PN25            0.89560    0.18443   4.856 1.20e-06 ***\n",
              "STANCE2         0.34277    0.20988   1.633 0.102434    \n",
              "STANCE3         0.67991    0.19943   3.409 0.000651 ***\n",
              "STANCE4         0.78785    0.21015   3.749 0.000178 ***\n",
              "STANCE5         0.56031    0.24968   2.244 0.024823 *  \n",
              "STATE2         -0.01038    0.13884  -0.075 0.940384    \n",
              "STATE3         -0.30264    0.15281  -1.980 0.047649 *  \n",
              "STATE4          1.90278    0.11779  16.154  < 2e-16 ***\n",
              "---\n",
              "Signif. codes:  0 ‘***’ 0.001 ‘**’ 0.01 ‘*’ 0.05 ‘.’ 0.1 ‘ ’ 1\n",
              "\n",
              "(Dispersion parameter for binomial family taken to be 1)\n",
              "\n",
              "    Null deviance: 4867.8  on 3532  degrees of freedom\n",
              "Residual deviance: 3714.3  on 3511  degrees of freedom\n",
              "AIC: 3758.3\n",
              "\n",
              "Number of Fisher Scoring iterations: 4\n"
            ]
          },
          "metadata": {}
        }
      ]
    },
    {
      "cell_type": "markdown",
      "source": [
        "## What role does social influence play in solar adoption?\n",
        "\n",
        "---\n",
        "\n"
      ],
      "metadata": {
        "id": "VTnCqQTHguN4"
      }
    },
    {
      "cell_type": "code",
      "source": [
        "\n",
        "survey_data_talking <- survey_data[survey_data$INFLNC_PPLTALK %in% c(1,2,3,4,5),]\n",
        "survey_data_talking$INFLNC_PPLTALK <- as.factor(survey_data_talking$INFLNC_PPLTALK)\n",
        "\n",
        "simple_talking_model <- glm(Has_Solar ~ INFLNC_PPLTALK, data = survey_data_talking, family = 'binomial')\n",
        "summary(simple_talking_model)\n",
        "\n",
        "data.frame(label = 1:5,\n",
        "           value = c('strongly disagree', 'disagree', 'neutral', 'agree', 'strongly agree'),\n",
        "           count = c(135, 428, 473, 496, 66))               \n",
        "\n",
        "#Graphing\n",
        "predict_frame <- data.frame(INFLNC_PPLTALK=unique(survey_data_talking$INFLNC_PPLTALK))\n",
        "pp <- predict(simple_talking_model,newdata=predict_frame,se.fit=TRUE)\n",
        "linkinv <- family(simple_talking_model)$linkinv ## inverse-link function\n",
        "\n",
        "predict_frame$pred0 <- pp$fit\n",
        "predict_frame$pred <- linkinv(pp$fit)\n",
        "alpha <- 0.95\n",
        "sc <- abs(qnorm((1-alpha)/2))  ## Normal approx. to likelihood\n",
        "alpha2 <- 0.5\n",
        "sc2 <- abs(qnorm((1-alpha2)/2))  ## Normal approx. to likelihood\n",
        "predict_frame <- transform(predict_frame,\n",
        "                    lwr=linkinv(pred0-sc*pp$se.fit),\n",
        "                    upr=linkinv(pred0+sc*pp$se.fit),\n",
        "                    lwr2=linkinv(pred0-sc2*pp$se.fit),\n",
        "                    upr2=linkinv(pred0+sc2*pp$se.fit))\n",
        "\n",
        "predict_frame <- predict_frame[order(predict_frame$INFLNC_PPLTALK),]\n",
        "\n",
        "with(predict_frame,\n",
        "{\n",
        "    bxp(list(stats=rbind(lwr,lwr2,pred,upr2,upr),\n",
        "             n = rep(1,nrow(predict_frame)),\n",
        "             conf = NA,\n",
        "             out = NULL,\n",
        "             group = NULL,\n",
        "             names=as.character(INFLNC_PPLTALK)))\n",
        "})"
      ],
      "metadata": {
        "id": "UVRN3GrdZVJI",
        "colab": {
          "base_uri": "https://localhost:8080/",
          "height": 1000
        },
        "outputId": "f3eba543-4877-48a6-9b77-8b215a92dff3"
      },
      "execution_count": null,
      "outputs": [
        {
          "output_type": "display_data",
          "data": {
            "text/plain": [
              "\n",
              "Call:\n",
              "glm(formula = Has_Solar ~ INFLNC_PPLTALK, family = \"binomial\", \n",
              "    data = survey_data_talking)\n",
              "\n",
              "Deviance Residuals: \n",
              "    Min       1Q   Median       3Q      Max  \n",
              "-1.8111  -1.2254   0.7204   0.8335   1.1302  \n",
              "\n",
              "Coefficients:\n",
              "                Estimate Std. Error z value Pr(>|z|)    \n",
              "(Intercept)       1.2164     0.1800   6.757 1.41e-11 ***\n",
              "INFLNC_PPLTALK2   0.2080     0.2108   0.987   0.3239    \n",
              "INFLNC_PPLTALK3  -0.2447     0.2003  -1.222   0.2218    \n",
              "INFLNC_PPLTALK4  -0.3377     0.1982  -1.704   0.0884 .  \n",
              "INFLNC_PPLTALK5  -1.1043     0.2540  -4.348 1.37e-05 ***\n",
              "---\n",
              "Signif. codes:  0 ‘***’ 0.001 ‘**’ 0.01 ‘*’ 0.05 ‘.’ 0.1 ‘ ’ 1\n",
              "\n",
              "(Dispersion parameter for binomial family taken to be 1)\n",
              "\n",
              "    Null deviance: 2543.0  on 2184  degrees of freedom\n",
              "Residual deviance: 2499.6  on 2180  degrees of freedom\n",
              "AIC: 2509.6\n",
              "\n",
              "Number of Fisher Scoring iterations: 4\n"
            ]
          },
          "metadata": {}
        },
        {
          "output_type": "display_data",
          "data": {
            "text/html": [
              "<table class=\"dataframe\">\n",
              "<caption>A data.frame: 5 × 3</caption>\n",
              "<thead>\n",
              "\t<tr><th scope=col>label</th><th scope=col>value</th><th scope=col>count</th></tr>\n",
              "\t<tr><th scope=col>&lt;int&gt;</th><th scope=col>&lt;chr&gt;</th><th scope=col>&lt;dbl&gt;</th></tr>\n",
              "</thead>\n",
              "<tbody>\n",
              "\t<tr><td>1</td><td>strongly disagree</td><td>135</td></tr>\n",
              "\t<tr><td>2</td><td>disagree         </td><td>428</td></tr>\n",
              "\t<tr><td>3</td><td>neutral          </td><td>473</td></tr>\n",
              "\t<tr><td>4</td><td>agree            </td><td>496</td></tr>\n",
              "\t<tr><td>5</td><td>strongly agree   </td><td> 66</td></tr>\n",
              "</tbody>\n",
              "</table>\n"
            ],
            "text/markdown": "\nA data.frame: 5 × 3\n\n| label &lt;int&gt; | value &lt;chr&gt; | count &lt;dbl&gt; |\n|---|---|---|\n| 1 | strongly disagree | 135 |\n| 2 | disagree          | 428 |\n| 3 | neutral           | 473 |\n| 4 | agree             | 496 |\n| 5 | strongly agree    |  66 |\n\n",
            "text/latex": "A data.frame: 5 × 3\n\\begin{tabular}{lll}\n label & value & count\\\\\n <int> & <chr> & <dbl>\\\\\n\\hline\n\t 1 & strongly disagree & 135\\\\\n\t 2 & disagree          & 428\\\\\n\t 3 & neutral           & 473\\\\\n\t 4 & agree             & 496\\\\\n\t 5 & strongly agree    &  66\\\\\n\\end{tabular}\n",
            "text/plain": [
              "  label value             count\n",
              "1 1     strongly disagree 135  \n",
              "2 2     disagree          428  \n",
              "3 3     neutral           473  \n",
              "4 4     agree             496  \n",
              "5 5     strongly agree     66  "
            ]
          },
          "metadata": {}
        },
        {
          "output_type": "display_data",
          "data": {
            "text/plain": [
              "plot without title"
            ],
            "image/png": "[encoded data removed]"
          },
          "metadata": {
            "image/png": {
              "width": 420,
              "height": 420
            }
          }
        }
      ]
    },
    {
      "cell_type": "markdown",
      "source": [
        "## Is there a difference in factors for leasers vs. buyers?"
      ],
      "metadata": {
        "id": "L0scM-tPWsY2"
      }
    },
    {
      "cell_type": "code",
      "source": [
        "# Removing GPS rows where BUY_LEASE is not a factor\n",
        "survey_data_lease = survey_data[survey_data$BUY_LEASE %in% c(1, 2),]\n",
        "survey_data_lease$BUY_LEASE <- ifelse(survey_data_lease$BUY_LEASE == 2, 1,0) # BUY_LEASE = 1 if leased, 0 if bought"
      ],
      "metadata": {
        "id": "Bu0ihNWNqxbj"
      },
      "execution_count": null,
      "outputs": []
    },
    {
      "cell_type": "code",
      "source": [
        "# Create factors\n",
        "survey_data_lease$BUY_LEASE <- as.factor(survey_data_lease$BUY_LEASE)\n",
        "survey_data_lease$INFLNC_PPLTALK <- as.factor(survey_data_lease$INFLNC_PPLTALK)\n",
        "survey_data_lease$STANCE <- as.factor(survey_data_lease$STANCE)\n",
        "survey_data_lease$PN2 <- as.factor(survey_data_lease$PN2)\n",
        "survey_data_lease$INCOME_BINNED <- as.factor(survey_data_lease$INCOME_BINNED)\n",
        "survey_data_lease$EDUC_BINNED <- as.factor(survey_data_lease$EDUC_BINNED)\n",
        "survey_data_lease$SQFT_BINNED <- as.factor(survey_data_lease$SQFT_BINNED)\n",
        "survey_data_lease$Has_Solar <- as.factor(survey_data_lease$Has_Solar)\n",
        "survey_data_lease$STATE <- as.factor(survey_data_lease$STATE)"
      ],
      "metadata": {
        "id": "gog8InnI7APi"
      },
      "execution_count": null,
      "outputs": []
    },
    {
      "cell_type": "code",
      "source": [
        "Model_Lease = glm(BUY_LEASE ~ SQFT_BINNED + EDUC_BINNED + INCOME_BINNED + PN2 + STANCE+ STATE, data = survey_data_lease, family = \"binomial\")\n",
        "summary(Model_Lease)\n",
        "\n",
        "toselect.x <- summary(Model_Lease)$coeff[-1,4] < 0.05 \n",
        "\n",
        "relevant.x <- names(toselect.x)[toselect.x == TRUE] \n",
        "\n",
        "data.frame(summary(Model_Lease)$coeff)[relevant.x,]"
      ],
      "metadata": {
        "id": "5oR41FirZUet",
        "colab": {
          "base_uri": "https://localhost:8080/",
          "height": 1000
        },
        "outputId": "1e9996bc-3419-4d12-a679-e411ef12b6f1"
      },
      "execution_count": null,
      "outputs": [
        {
          "output_type": "display_data",
          "data": {
            "text/plain": [
              "\n",
              "Call:\n",
              "glm(formula = BUY_LEASE ~ SQFT_BINNED + EDUC_BINNED + INCOME_BINNED + \n",
              "    PN2 + STANCE + STATE, family = \"binomial\", data = survey_data_lease)\n",
              "\n",
              "Deviance Residuals: \n",
              "   Min      1Q  Median      3Q     Max  \n",
              "-2.468  -1.034   0.609   0.809   1.552  \n",
              "\n",
              "Coefficients:\n",
              "               Estimate Std. Error z value Pr(>|z|)    \n",
              "(Intercept)     4.11613    1.01583   4.052 5.08e-05 ***\n",
              "SQFT_BINNED2   -0.39966    0.27841  -1.435 0.151147    \n",
              "SQFT_BINNED3   -0.53073    0.30755  -1.726 0.084406 .  \n",
              "SQFT_BINNED4   -0.94206    0.31104  -3.029 0.002456 ** \n",
              "EDUC_BINNED2   -1.39541    0.63511  -2.197 0.028013 *  \n",
              "EDUC_BINNED3   -1.22933    0.63637  -1.932 0.053387 .  \n",
              "EDUC_BINNED4   -1.86520    0.63986  -2.915 0.003557 ** \n",
              "INCOME_BINNED2 -0.13624    0.34413  -0.396 0.692183    \n",
              "INCOME_BINNED3  0.22970    0.36655   0.627 0.530892    \n",
              "INCOME_BINNED4 -0.07996    0.33188  -0.241 0.809615    \n",
              "INCOME_BINNED5 -0.56256    0.34648  -1.624 0.104457    \n",
              "PN22            0.27666    0.52273   0.529 0.596625    \n",
              "PN23           -0.38206    0.34744  -1.100 0.271495    \n",
              "PN24            0.15443    0.35229   0.438 0.661115    \n",
              "PN25           -0.27871    0.36475  -0.764 0.444798    \n",
              "STANCE2         0.69464    0.39659   1.752 0.079854 .  \n",
              "STANCE3         0.43844    0.38213   1.147 0.251240    \n",
              "STANCE4         0.63474    0.40389   1.572 0.116055    \n",
              "STANCE5         0.57991    0.50530   1.148 0.251107    \n",
              "STATE2          0.11666    0.76144   0.153 0.878238    \n",
              "STATE3         -2.34742    0.61976  -3.788 0.000152 ***\n",
              "STATE4         -1.56163    0.55868  -2.795 0.005187 ** \n",
              "---\n",
              "Signif. codes:  0 ‘***’ 0.001 ‘**’ 0.01 ‘*’ 0.05 ‘.’ 0.1 ‘ ’ 1\n",
              "\n",
              "(Dispersion parameter for binomial family taken to be 1)\n",
              "\n",
              "    Null deviance: 882.36  on 744  degrees of freedom\n",
              "Residual deviance: 790.39  on 723  degrees of freedom\n",
              "  (670 observations deleted due to missingness)\n",
              "AIC: 834.39\n",
              "\n",
              "Number of Fisher Scoring iterations: 5\n"
            ]
          },
          "metadata": {}
        },
        {
          "output_type": "display_data",
          "data": {
            "text/html": [
              "<table class=\"dataframe\">\n",
              "<caption>A data.frame: 5 × 4</caption>\n",
              "<thead>\n",
              "\t<tr><th></th><th scope=col>Estimate</th><th scope=col>Std..Error</th><th scope=col>z.value</th><th scope=col>Pr...z..</th></tr>\n",
              "\t<tr><th></th><th scope=col>&lt;dbl&gt;</th><th scope=col>&lt;dbl&gt;</th><th scope=col>&lt;dbl&gt;</th><th scope=col>&lt;dbl&gt;</th></tr>\n",
              "</thead>\n",
              "<tbody>\n",
              "\t<tr><th scope=row>SQFT_BINNED4</th><td>-0.9420611</td><td>0.3110379</td><td>-3.028766</td><td>0.0024555462</td></tr>\n",
              "\t<tr><th scope=row>EDUC_BINNED2</th><td>-1.3954079</td><td>0.6351109</td><td>-2.197109</td><td>0.0280126497</td></tr>\n",
              "\t<tr><th scope=row>EDUC_BINNED4</th><td>-1.8652015</td><td>0.6398630</td><td>-2.915002</td><td>0.0035568681</td></tr>\n",
              "\t<tr><th scope=row>STATE3</th><td>-2.3474227</td><td>0.6197580</td><td>-3.787644</td><td>0.0001520824</td></tr>\n",
              "\t<tr><th scope=row>STATE4</th><td>-1.5616274</td><td>0.5586831</td><td>-2.795194</td><td>0.0051868601</td></tr>\n",
              "</tbody>\n",
              "</table>\n"
            ],
            "text/markdown": "\nA data.frame: 5 × 4\n\n| <!--/--> | Estimate &lt;dbl&gt; | Std..Error &lt;dbl&gt; | z.value &lt;dbl&gt; | Pr...z.. &lt;dbl&gt; |\n|---|---|---|---|---|\n| SQFT_BINNED4 | -0.9420611 | 0.3110379 | -3.028766 | 0.0024555462 |\n| EDUC_BINNED2 | -1.3954079 | 0.6351109 | -2.197109 | 0.0280126497 |\n| EDUC_BINNED4 | -1.8652015 | 0.6398630 | -2.915002 | 0.0035568681 |\n| STATE3 | -2.3474227 | 0.6197580 | -3.787644 | 0.0001520824 |\n| STATE4 | -1.5616274 | 0.5586831 | -2.795194 | 0.0051868601 |\n\n",
            "text/latex": "A data.frame: 5 × 4\n\\begin{tabular}{r|llll}\n  & Estimate & Std..Error & z.value & Pr...z..\\\\\n  & <dbl> & <dbl> & <dbl> & <dbl>\\\\\n\\hline\n\tSQFT\\_BINNED4 & -0.9420611 & 0.3110379 & -3.028766 & 0.0024555462\\\\\n\tEDUC\\_BINNED2 & -1.3954079 & 0.6351109 & -2.197109 & 0.0280126497\\\\\n\tEDUC\\_BINNED4 & -1.8652015 & 0.6398630 & -2.915002 & 0.0035568681\\\\\n\tSTATE3 & -2.3474227 & 0.6197580 & -3.787644 & 0.0001520824\\\\\n\tSTATE4 & -1.5616274 & 0.5586831 & -2.795194 & 0.0051868601\\\\\n\\end{tabular}\n",
            "text/plain": [
              "             Estimate   Std..Error z.value   Pr...z..    \n",
              "SQFT_BINNED4 -0.9420611 0.3110379  -3.028766 0.0024555462\n",
              "EDUC_BINNED2 -1.3954079 0.6351109  -2.197109 0.0280126497\n",
              "EDUC_BINNED4 -1.8652015 0.6398630  -2.915002 0.0035568681\n",
              "STATE3       -2.3474227 0.6197580  -3.787644 0.0001520824\n",
              "STATE4       -1.5616274 0.5586831  -2.795194 0.0051868601"
            ]
          },
          "metadata": {}
        }
      ]
    },
    {
      "cell_type": "markdown",
      "source": [
        "## Is electricity cost a factor in solar energy generation?"
      ],
      "metadata": {
        "id": "uS3iqhEvW7TD"
      }
    },
    {
      "cell_type": "code",
      "source": [
        "# First merge the NetGeneration Solar dataset with the Retail Price dataset before building the linear regression model: \n",
        "\n",
        "Gen_Price_Data <- merge(generation_data, price_data, by = \"Month\")\n",
        "\n",
        "head(Gen_Price_Data)\n",
        "tail(Gen_Price_Data)\n",
        "\n",
        "Model_Generation_Price_NY=lm(formula=Net_Gen_New.York~Price_New.York,data = Gen_Price_Data )\n",
        "Model_Generation_Price_NJ=lm(formula=Net_Gen_New.Jersey~Price_New.Jersey,data = Gen_Price_Data )\n",
        "Model_Generation_Price_CA=lm(formula=Net_Gen_California~Price_California,data = Gen_Price_Data )\n",
        "Model_Generation_Price_AZ=lm(formula=Net_Gen_Arizona~Price_Arizona,data = Gen_Price_Data )\n",
        "\n",
        "print(\"Linear Regression Model for New York\")\n",
        "summary(Model_Generation_Price_NY)\n",
        "print(\"Linear Regression Model for New Jersey\")\n",
        "summary(Model_Generation_Price_NJ)\n",
        "print(\"Linear Regression Model for California\")\n",
        "summary(Model_Generation_Price_CA)\n",
        "print(\"Linear Regression Model for Arizona\")\n",
        "summary(Model_Generation_Price_AZ)"
      ],
      "metadata": {
        "id": "s3iZ265HZT0w",
        "colab": {
          "base_uri": "https://localhost:8080/",
          "height": 1000
        },
        "outputId": "5a5f9dd0-b833-41ba-8e1d-8475e7d08f8d"
      },
      "execution_count": null,
      "outputs": [
        {
          "output_type": "display_data",
          "data": {
            "text/html": [
              "<table class=\"dataframe\">\n",
              "<caption>A data.frame: 6 × 9</caption>\n",
              "<thead>\n",
              "\t<tr><th></th><th scope=col>Month</th><th scope=col>Net_Gen_New.York</th><th scope=col>Net_Gen_New.Jersey</th><th scope=col>Net_Gen_California</th><th scope=col>Net_Gen_Arizona</th><th scope=col>Price_New.York</th><th scope=col>Price_New.Jersey</th><th scope=col>Price_California</th><th scope=col>Price_Arizona</th></tr>\n",
              "\t<tr><th></th><th scope=col>&lt;date&gt;</th><th scope=col>&lt;int&gt;</th><th scope=col>&lt;int&gt;</th><th scope=col>&lt;int&gt;</th><th scope=col>&lt;int&gt;</th><th scope=col>&lt;dbl&gt;</th><th scope=col>&lt;dbl&gt;</th><th scope=col>&lt;dbl&gt;</th><th scope=col>&lt;dbl&gt;</th></tr>\n",
              "</thead>\n",
              "<tbody>\n",
              "\t<tr><th scope=row>1</th><td>2014-01-01</td><td> 7</td><td>16</td><td>126</td><td>34</td><td>195.7</td><td>152.2</td><td>165.7</td><td>108.3</td></tr>\n",
              "\t<tr><th scope=row>2</th><td>2014-02-01</td><td> 8</td><td>18</td><td>131</td><td>33</td><td>216.9</td><td>156.3</td><td>161.1</td><td>111.3</td></tr>\n",
              "\t<tr><th scope=row>3</th><td>2014-03-01</td><td>11</td><td>24</td><td>191</td><td>43</td><td>209.0</td><td>158.8</td><td>158.6</td><td>112.2</td></tr>\n",
              "\t<tr><th scope=row>4</th><td>2014-04-01</td><td>13</td><td>25</td><td>210</td><td>46</td><td>195.4</td><td>156.9</td><td>101.2</td><td>118.8</td></tr>\n",
              "\t<tr><th scope=row>5</th><td>2014-05-01</td><td>15</td><td>28</td><td>236</td><td>50</td><td>205.9</td><td>154.5</td><td>164.6</td><td>125.2</td></tr>\n",
              "\t<tr><th scope=row>6</th><td>2014-06-01</td><td>16</td><td>28</td><td>242</td><td>48</td><td>208.8</td><td>158.7</td><td>169.0</td><td>123.6</td></tr>\n",
              "</tbody>\n",
              "</table>\n"
            ],
            "text/markdown": "\nA data.frame: 6 × 9\n\n| <!--/--> | Month &lt;date&gt; | Net_Gen_New.York &lt;int&gt; | Net_Gen_New.Jersey &lt;int&gt; | Net_Gen_California &lt;int&gt; | Net_Gen_Arizona &lt;int&gt; | Price_New.York &lt;dbl&gt; | Price_New.Jersey &lt;dbl&gt; | Price_California &lt;dbl&gt; | Price_Arizona &lt;dbl&gt; |\n|---|---|---|---|---|---|---|---|---|---|\n| 1 | 2014-01-01 |  7 | 16 | 126 | 34 | 195.7 | 152.2 | 165.7 | 108.3 |\n| 2 | 2014-02-01 |  8 | 18 | 131 | 33 | 216.9 | 156.3 | 161.1 | 111.3 |\n| 3 | 2014-03-01 | 11 | 24 | 191 | 43 | 209.0 | 158.8 | 158.6 | 112.2 |\n| 4 | 2014-04-01 | 13 | 25 | 210 | 46 | 195.4 | 156.9 | 101.2 | 118.8 |\n| 5 | 2014-05-01 | 15 | 28 | 236 | 50 | 205.9 | 154.5 | 164.6 | 125.2 |\n| 6 | 2014-06-01 | 16 | 28 | 242 | 48 | 208.8 | 158.7 | 169.0 | 123.6 |\n\n",
            "text/latex": "A data.frame: 6 × 9\n\\begin{tabular}{r|lllllllll}\n  & Month & Net\\_Gen\\_New.York & Net\\_Gen\\_New.Jersey & Net\\_Gen\\_California & Net\\_Gen\\_Arizona & Price\\_New.York & Price\\_New.Jersey & Price\\_California & Price\\_Arizona\\\\\n  & <date> & <int> & <int> & <int> & <int> & <dbl> & <dbl> & <dbl> & <dbl>\\\\\n\\hline\n\t1 & 2014-01-01 &  7 & 16 & 126 & 34 & 195.7 & 152.2 & 165.7 & 108.3\\\\\n\t2 & 2014-02-01 &  8 & 18 & 131 & 33 & 216.9 & 156.3 & 161.1 & 111.3\\\\\n\t3 & 2014-03-01 & 11 & 24 & 191 & 43 & 209.0 & 158.8 & 158.6 & 112.2\\\\\n\t4 & 2014-04-01 & 13 & 25 & 210 & 46 & 195.4 & 156.9 & 101.2 & 118.8\\\\\n\t5 & 2014-05-01 & 15 & 28 & 236 & 50 & 205.9 & 154.5 & 164.6 & 125.2\\\\\n\t6 & 2014-06-01 & 16 & 28 & 242 & 48 & 208.8 & 158.7 & 169.0 & 123.6\\\\\n\\end{tabular}\n",
            "text/plain": [
              "  Month      Net_Gen_New.York Net_Gen_New.Jersey Net_Gen_California\n",
              "1 2014-01-01  7               16                 126               \n",
              "2 2014-02-01  8               18                 131               \n",
              "3 2014-03-01 11               24                 191               \n",
              "4 2014-04-01 13               25                 210               \n",
              "5 2014-05-01 15               28                 236               \n",
              "6 2014-06-01 16               28                 242               \n",
              "  Net_Gen_Arizona Price_New.York Price_New.Jersey Price_California\n",
              "1 34              195.7          152.2            165.7           \n",
              "2 33              216.9          156.3            161.1           \n",
              "3 43              209.0          158.8            158.6           \n",
              "4 46              195.4          156.9            101.2           \n",
              "5 50              205.9          154.5            164.6           \n",
              "6 48              208.8          158.7            169.0           \n",
              "  Price_Arizona\n",
              "1 108.3        \n",
              "2 111.3        \n",
              "3 112.2        \n",
              "4 118.8        \n",
              "5 125.2        \n",
              "6 123.6        "
            ]
          },
          "metadata": {}
        },
        {
          "output_type": "display_data",
          "data": {
            "text/html": [
              "<table class=\"dataframe\">\n",
              "<caption>A data.frame: 6 × 9</caption>\n",
              "<thead>\n",
              "\t<tr><th></th><th scope=col>Month</th><th scope=col>Net_Gen_New.York</th><th scope=col>Net_Gen_New.Jersey</th><th scope=col>Net_Gen_California</th><th scope=col>Net_Gen_Arizona</th><th scope=col>Price_New.York</th><th scope=col>Price_New.Jersey</th><th scope=col>Price_California</th><th scope=col>Price_Arizona</th></tr>\n",
              "\t<tr><th></th><th scope=col>&lt;date&gt;</th><th scope=col>&lt;int&gt;</th><th scope=col>&lt;int&gt;</th><th scope=col>&lt;int&gt;</th><th scope=col>&lt;int&gt;</th><th scope=col>&lt;dbl&gt;</th><th scope=col>&lt;dbl&gt;</th><th scope=col>&lt;dbl&gt;</th><th scope=col>&lt;dbl&gt;</th></tr>\n",
              "</thead>\n",
              "<tbody>\n",
              "\t<tr><th scope=row>103</th><td>2022-07-01</td><td>163</td><td>153</td><td>1581</td><td>258</td><td>218.8</td><td>171.4</td><td>267.5</td><td>130.7</td></tr>\n",
              "\t<tr><th scope=row>104</th><td>2022-08-01</td><td>152</td><td>146</td><td>1520</td><td>253</td><td>211.9</td><td>172.8</td><td>272.1</td><td>131.8</td></tr>\n",
              "\t<tr><th scope=row>105</th><td>2022-09-01</td><td>128</td><td>124</td><td>1352</td><td>240</td><td>239.5</td><td>166.5</td><td>265.7</td><td>132.7</td></tr>\n",
              "\t<tr><th scope=row>106</th><td>2022-10-01</td><td>103</td><td> 99</td><td>1290</td><td>244</td><td>232.7</td><td>163.9</td><td>250.2</td><td>131.0</td></tr>\n",
              "\t<tr><th scope=row>107</th><td>2022-11-01</td><td> 77</td><td> 82</td><td>1023</td><td>213</td><td>236.6</td><td>162.4</td><td>260.5</td><td>131.0</td></tr>\n",
              "\t<tr><th scope=row>108</th><td>2022-12-01</td><td> 72</td><td> 72</td><td> 877</td><td>200</td><td>227.9</td><td>167.2</td><td>244.6</td><td>125.6</td></tr>\n",
              "</tbody>\n",
              "</table>\n"
            ],
            "text/markdown": "\nA data.frame: 6 × 9\n\n| <!--/--> | Month &lt;date&gt; | Net_Gen_New.York &lt;int&gt; | Net_Gen_New.Jersey &lt;int&gt; | Net_Gen_California &lt;int&gt; | Net_Gen_Arizona &lt;int&gt; | Price_New.York &lt;dbl&gt; | Price_New.Jersey &lt;dbl&gt; | Price_California &lt;dbl&gt; | Price_Arizona &lt;dbl&gt; |\n|---|---|---|---|---|---|---|---|---|---|\n| 103 | 2022-07-01 | 163 | 153 | 1581 | 258 | 218.8 | 171.4 | 267.5 | 130.7 |\n| 104 | 2022-08-01 | 152 | 146 | 1520 | 253 | 211.9 | 172.8 | 272.1 | 131.8 |\n| 105 | 2022-09-01 | 128 | 124 | 1352 | 240 | 239.5 | 166.5 | 265.7 | 132.7 |\n| 106 | 2022-10-01 | 103 |  99 | 1290 | 244 | 232.7 | 163.9 | 250.2 | 131.0 |\n| 107 | 2022-11-01 |  77 |  82 | 1023 | 213 | 236.6 | 162.4 | 260.5 | 131.0 |\n| 108 | 2022-12-01 |  72 |  72 |  877 | 200 | 227.9 | 167.2 | 244.6 | 125.6 |\n\n",
            "text/latex": "A data.frame: 6 × 9\n\\begin{tabular}{r|lllllllll}\n  & Month & Net\\_Gen\\_New.York & Net\\_Gen\\_New.Jersey & Net\\_Gen\\_California & Net\\_Gen\\_Arizona & Price\\_New.York & Price\\_New.Jersey & Price\\_California & Price\\_Arizona\\\\\n  & <date> & <int> & <int> & <int> & <int> & <dbl> & <dbl> & <dbl> & <dbl>\\\\\n\\hline\n\t103 & 2022-07-01 & 163 & 153 & 1581 & 258 & 218.8 & 171.4 & 267.5 & 130.7\\\\\n\t104 & 2022-08-01 & 152 & 146 & 1520 & 253 & 211.9 & 172.8 & 272.1 & 131.8\\\\\n\t105 & 2022-09-01 & 128 & 124 & 1352 & 240 & 239.5 & 166.5 & 265.7 & 132.7\\\\\n\t106 & 2022-10-01 & 103 &  99 & 1290 & 244 & 232.7 & 163.9 & 250.2 & 131.0\\\\\n\t107 & 2022-11-01 &  77 &  82 & 1023 & 213 & 236.6 & 162.4 & 260.5 & 131.0\\\\\n\t108 & 2022-12-01 &  72 &  72 &  877 & 200 & 227.9 & 167.2 & 244.6 & 125.6\\\\\n\\end{tabular}\n",
            "text/plain": [
              "    Month      Net_Gen_New.York Net_Gen_New.Jersey Net_Gen_California\n",
              "103 2022-07-01 163              153                1581              \n",
              "104 2022-08-01 152              146                1520              \n",
              "105 2022-09-01 128              124                1352              \n",
              "106 2022-10-01 103               99                1290              \n",
              "107 2022-11-01  77               82                1023              \n",
              "108 2022-12-01  72               72                 877              \n",
              "    Net_Gen_Arizona Price_New.York Price_New.Jersey Price_California\n",
              "103 258             218.8          171.4            267.5           \n",
              "104 253             211.9          172.8            272.1           \n",
              "105 240             239.5          166.5            265.7           \n",
              "106 244             232.7          163.9            250.2           \n",
              "107 213             236.6          162.4            260.5           \n",
              "108 200             227.9          167.2            244.6           \n",
              "    Price_Arizona\n",
              "103 130.7        \n",
              "104 131.8        \n",
              "105 132.7        \n",
              "106 131.0        \n",
              "107 131.0        \n",
              "108 125.6        "
            ]
          },
          "metadata": {}
        },
        {
          "output_type": "stream",
          "name": "stdout",
          "text": [
            "[1] \"Linear Regression Model for New York\"\n"
          ]
        },
        {
          "output_type": "display_data",
          "data": {
            "text/plain": [
              "\n",
              "Call:\n",
              "lm(formula = Net_Gen_New.York ~ Price_New.York, data = Gen_Price_Data)\n",
              "\n",
              "Residuals:\n",
              "    Min      1Q  Median      3Q     Max \n",
              "-82.101 -26.646  -2.249  28.781  71.449 \n",
              "\n",
              "Coefficients:\n",
              "               Estimate Std. Error t value Pr(>|t|)   \n",
              "(Intercept)    -75.5207    46.3289   -1.63  0.10605   \n",
              "Price_New.York   0.7636     0.2439    3.13  0.00226 **\n",
              "---\n",
              "Signif. codes:  0 ‘***’ 0.001 ‘**’ 0.01 ‘*’ 0.05 ‘.’ 0.1 ‘ ’ 1\n",
              "\n",
              "Residual standard error: 38.9 on 106 degrees of freedom\n",
              "Multiple R-squared:  0.08462,\tAdjusted R-squared:  0.07598 \n",
              "F-statistic: 9.799 on 1 and 106 DF,  p-value: 0.002257\n"
            ]
          },
          "metadata": {}
        },
        {
          "output_type": "stream",
          "name": "stdout",
          "text": [
            "[1] \"Linear Regression Model for New Jersey\"\n"
          ]
        },
        {
          "output_type": "display_data",
          "data": {
            "text/plain": [
              "\n",
              "Call:\n",
              "lm(formula = Net_Gen_New.Jersey ~ Price_New.Jersey, data = Gen_Price_Data)\n",
              "\n",
              "Residuals:\n",
              "    Min      1Q  Median      3Q     Max \n",
              "-65.665 -23.164  -0.164  20.640  70.287 \n",
              "\n",
              "Coefficients:\n",
              "                  Estimate Std. Error t value Pr(>|t|)    \n",
              "(Intercept)      -629.1753    86.8270  -7.246 7.22e-11 ***\n",
              "Price_New.Jersey    4.3903     0.5463   8.036 1.39e-12 ***\n",
              "---\n",
              "Signif. codes:  0 ‘***’ 0.001 ‘**’ 0.01 ‘*’ 0.05 ‘.’ 0.1 ‘ ’ 1\n",
              "\n",
              "Residual standard error: 29.73 on 106 degrees of freedom\n",
              "Multiple R-squared:  0.3786,\tAdjusted R-squared:  0.3727 \n",
              "F-statistic: 64.58 on 1 and 106 DF,  p-value: 1.388e-12\n"
            ]
          },
          "metadata": {}
        },
        {
          "output_type": "stream",
          "name": "stdout",
          "text": [
            "[1] \"Linear Regression Model for California\"\n"
          ]
        },
        {
          "output_type": "display_data",
          "data": {
            "text/plain": [
              "\n",
              "Call:\n",
              "lm(formula = Net_Gen_California ~ Price_California, data = Gen_Price_Data)\n",
              "\n",
              "Residuals:\n",
              "    Min      1Q  Median      3Q     Max \n",
              "-330.44 -194.50  -32.41  165.46  524.39 \n",
              "\n",
              "Coefficients:\n",
              "                  Estimate Std. Error t value Pr(>|t|)    \n",
              "(Intercept)      -1002.538    128.922  -7.776 5.15e-12 ***\n",
              "Price_California     8.609      0.651  13.224  < 2e-16 ***\n",
              "---\n",
              "Signif. codes:  0 ‘***’ 0.001 ‘**’ 0.01 ‘*’ 0.05 ‘.’ 0.1 ‘ ’ 1\n",
              "\n",
              "Residual standard error: 227.9 on 106 degrees of freedom\n",
              "Multiple R-squared:  0.6226,\tAdjusted R-squared:  0.619 \n",
              "F-statistic: 174.9 on 1 and 106 DF,  p-value: < 2.2e-16\n"
            ]
          },
          "metadata": {}
        },
        {
          "output_type": "stream",
          "name": "stdout",
          "text": [
            "[1] \"Linear Regression Model for Arizona\"\n"
          ]
        },
        {
          "output_type": "display_data",
          "data": {
            "text/plain": [
              "\n",
              "Call:\n",
              "lm(formula = Net_Gen_Arizona ~ Price_Arizona, data = Gen_Price_Data)\n",
              "\n",
              "Residuals:\n",
              "   Min     1Q Median     3Q    Max \n",
              "-94.03 -36.79  -3.07  44.42  98.40 \n",
              "\n",
              "Coefficients:\n",
              "               Estimate Std. Error t value Pr(>|t|)    \n",
              "(Intercept)   -688.7695    97.7067  -7.049 1.90e-10 ***\n",
              "Price_Arizona    6.6518     0.7924   8.394 2.24e-13 ***\n",
              "---\n",
              "Signif. codes:  0 ‘***’ 0.001 ‘**’ 0.01 ‘*’ 0.05 ‘.’ 0.1 ‘ ’ 1\n",
              "\n",
              "Residual standard error: 51.27 on 106 degrees of freedom\n",
              "Multiple R-squared:  0.3993,\tAdjusted R-squared:  0.3936 \n",
              "F-statistic: 70.46 on 1 and 106 DF,  p-value: 2.242e-13\n"
            ]
          },
          "metadata": {}
        }
      ]
    },
    {
      "cell_type": "code",
      "source": [
        "library(ggplot2)\n",
        "\n",
        "ggplot(Gen_Price_Data, aes(x = Price_New.York, y = Net_Gen_New.York)) +\n",
        "  geom_point() +\n",
        "  geom_smooth(method = \"lm\", se = FALSE)+\n",
        "  ggtitle(\"Linear Regression in New York State\")+\n",
        "  xlab(\"Retail Price of Electricity (dollar per MegaWatthour)\")+\n",
        "  ylab(\"NetGeneration of electricity from Solar (Thousand MegaWatthour)\")\n",
        "\n",
        "\n",
        "ggplot(Gen_Price_Data, aes(x = Price_New.Jersey, y = Net_Gen_New.Jersey)) +\n",
        "  geom_point() +\n",
        "  geom_smooth(method = \"lm\", se = FALSE)+\n",
        "  ggtitle(\"Linear Regression in New Jersey State\")+\n",
        "  xlab(\"Retail Price of Electricity (dollar per MegaWatthour)\")+\n",
        "  ylab(\"NetGeneration of electricity from Solar (Thousand MegaWatthour)\")\n",
        "\n",
        "ggplot(Gen_Price_Data, aes(x = Price_California, y = Net_Gen_California)) +\n",
        "  geom_point() +\n",
        "  geom_smooth(method = \"lm\", se = FALSE)+\n",
        "  ggtitle(\"Linear Regression in California State\")+\n",
        "  xlab(\"Retail Price of Electricity (dollar per MegaWatthour)\")+\n",
        "  ylab(\"NetGeneration of electricity from Solar (Thousand MegaWatthour)\")\n",
        "\n",
        "\n",
        "ggplot(Gen_Price_Data, aes(x = Price_Arizona, y = Net_Gen_Arizona)) +\n",
        "  geom_point() +\n",
        "  geom_smooth(method = \"lm\", se = FALSE)+\n",
        "  ggtitle(\"Linear Regression in Arizona State\")+\n",
        "  xlab(\"Retail Price of Electricity (dollar per MegaWatthour)\")+\n",
        "  ylab(\"NetGeneration of electricity from Solar (Thousand MegaWatthour)\")"
      ],
      "metadata": {
        "colab": {
          "base_uri": "https://localhost:8080/",
          "height": 1000
        },
        "id": "rHM-PJ49C5c0",
        "outputId": "15cbb7f2-e867-45c5-cd6f-bb8126814887"
      },
      "execution_count": null,
      "outputs": [
        {
          "output_type": "stream",
          "name": "stderr",
          "text": [
            "\u001b[1m\u001b[22m`geom_smooth()` using formula = 'y ~ x'\n",
            "\u001b[1m\u001b[22m`geom_smooth()` using formula = 'y ~ x'\n"
          ]
        },
        {
          "output_type": "display_data",
          "data": {
            "text/plain": [
              "plot without title"
            ],
            "image/png": "[encoded data removed]"
          },
          "metadata": {
            "image/png": {
              "width": 420,
              "height": 420
            }
          }
        },
        {
          "output_type": "stream",
          "name": "stderr",
          "text": [
            "\u001b[1m\u001b[22m`geom_smooth()` using formula = 'y ~ x'\n"
          ]
        },
        {
          "output_type": "display_data",
          "data": {
            "text/plain": [
              "plot without title"
            ],
            "image/png": "[encoded data removed]"
          },
          "metadata": {
            "image/png": {
              "width": 420,
              "height": 420
            }
          }
        },
        {
          "output_type": "stream",
          "name": "stderr",
          "text": [
            "\u001b[1m\u001b[22m`geom_smooth()` using formula = 'y ~ x'\n"
          ]
        },
        {
          "output_type": "display_data",
          "data": {
            "text/plain": [
              "plot without title"
            ],
            "image/png": "[encoded data removed]"
          },
          "metadata": {
            "image/png": {
              "width": 420,
              "height": 420
            }
          }
        },
        {
          "output_type": "display_data",
          "data": {
            "text/plain": [
              "plot without title"
            ],
            "image/png": "[encoded data removed]"
          },
          "metadata": {
            "image/png": {
              "width": 420,
              "height": 420
            }
          }
        }
      ]
    },
    {
      "cell_type": "code",
      "source": [
        "# Create dummy variables for months\n",
        "Gen_Price_Data$monthonly <- format(Gen_Price_Data$Month, \"%m\")\n",
        "dummy_vars <- model.matrix(~ monthonly, data = Gen_Price_Data)\n",
        "\n",
        "Gen_Price_Data_dummies <- cbind(Gen_Price_Data, dummy_vars)\n",
        "\n",
        "head(Gen_Price_Data_dummies)\n",
        "\n",
        "Model_without_Seasonality_NY <-lm(formula=Net_Gen_New.York~Price_New.York+monthonly02+monthonly03+monthonly04+monthonly05+monthonly06+monthonly07+monthonly08+monthonly09+monthonly10+monthonly11+monthonly12,data = Gen_Price_Data_dummies) \n",
        "summary(Model_without_Seasonality_NY)\n",
        "\n",
        "Model_without_Seasonality_NJ <-lm(formula=Net_Gen_New.Jersey~Price_New.Jersey+monthonly02+monthonly03+monthonly04+monthonly05+monthonly06+monthonly07+monthonly08+monthonly09+monthonly10+monthonly11+monthonly12,data = Gen_Price_Data_dummies) \n",
        "summary(Model_without_Seasonality_NJ)\n",
        "\n",
        "Model_without_Seasonality_CA <-lm(formula=Net_Gen_California~Price_California+monthonly02+monthonly03+monthonly04+monthonly05+monthonly06+monthonly07+monthonly08+monthonly09+monthonly10+monthonly11+monthonly12,data = Gen_Price_Data_dummies) \n",
        "summary(Model_without_Seasonality_CA)\n",
        "\n",
        "Model_without_Seasonality_AZ <-lm(formula=Net_Gen_Arizona~Price_Arizona+monthonly02+monthonly03+monthonly04+monthonly05+monthonly06+monthonly07+monthonly08+monthonly09+monthonly10+monthonly11+monthonly12,data = Gen_Price_Data_dummies) \n",
        "summary(Model_without_Seasonality_AZ)"
      ],
      "metadata": {
        "colab": {
          "base_uri": "https://localhost:8080/",
          "height": 1000
        },
        "id": "D-1VZgObGWi6",
        "outputId": "789901a1-92d4-476e-b01f-d5737112e306"
      },
      "execution_count": null,
      "outputs": [
        {
          "output_type": "display_data",
          "data": {
            "text/html": [
              "<table class=\"dataframe\">\n",
              "<caption>A data.frame: 6 × 22</caption>\n",
              "<thead>\n",
              "\t<tr><th></th><th scope=col>Month</th><th scope=col>Net_Gen_New.York</th><th scope=col>Net_Gen_New.Jersey</th><th scope=col>Net_Gen_California</th><th scope=col>Net_Gen_Arizona</th><th scope=col>Price_New.York</th><th scope=col>Price_New.Jersey</th><th scope=col>Price_California</th><th scope=col>Price_Arizona</th><th scope=col>monthonly</th><th scope=col>⋯</th><th scope=col>monthonly03</th><th scope=col>monthonly04</th><th scope=col>monthonly05</th><th scope=col>monthonly06</th><th scope=col>monthonly07</th><th scope=col>monthonly08</th><th scope=col>monthonly09</th><th scope=col>monthonly10</th><th scope=col>monthonly11</th><th scope=col>monthonly12</th></tr>\n",
              "\t<tr><th></th><th scope=col>&lt;date&gt;</th><th scope=col>&lt;int&gt;</th><th scope=col>&lt;int&gt;</th><th scope=col>&lt;int&gt;</th><th scope=col>&lt;int&gt;</th><th scope=col>&lt;dbl&gt;</th><th scope=col>&lt;dbl&gt;</th><th scope=col>&lt;dbl&gt;</th><th scope=col>&lt;dbl&gt;</th><th scope=col>&lt;chr&gt;</th><th scope=col>⋯</th><th scope=col>&lt;dbl&gt;</th><th scope=col>&lt;dbl&gt;</th><th scope=col>&lt;dbl&gt;</th><th scope=col>&lt;dbl&gt;</th><th scope=col>&lt;dbl&gt;</th><th scope=col>&lt;dbl&gt;</th><th scope=col>&lt;dbl&gt;</th><th scope=col>&lt;dbl&gt;</th><th scope=col>&lt;dbl&gt;</th><th scope=col>&lt;dbl&gt;</th></tr>\n",
              "</thead>\n",
              "<tbody>\n",
              "\t<tr><th scope=row>1</th><td>2014-01-01</td><td> 7</td><td>16</td><td>126</td><td>34</td><td>195.7</td><td>152.2</td><td>165.7</td><td>108.3</td><td>01</td><td>⋯</td><td>0</td><td>0</td><td>0</td><td>0</td><td>0</td><td>0</td><td>0</td><td>0</td><td>0</td><td>0</td></tr>\n",
              "\t<tr><th scope=row>2</th><td>2014-02-01</td><td> 8</td><td>18</td><td>131</td><td>33</td><td>216.9</td><td>156.3</td><td>161.1</td><td>111.3</td><td>02</td><td>⋯</td><td>0</td><td>0</td><td>0</td><td>0</td><td>0</td><td>0</td><td>0</td><td>0</td><td>0</td><td>0</td></tr>\n",
              "\t<tr><th scope=row>3</th><td>2014-03-01</td><td>11</td><td>24</td><td>191</td><td>43</td><td>209.0</td><td>158.8</td><td>158.6</td><td>112.2</td><td>03</td><td>⋯</td><td>1</td><td>0</td><td>0</td><td>0</td><td>0</td><td>0</td><td>0</td><td>0</td><td>0</td><td>0</td></tr>\n",
              "\t<tr><th scope=row>4</th><td>2014-04-01</td><td>13</td><td>25</td><td>210</td><td>46</td><td>195.4</td><td>156.9</td><td>101.2</td><td>118.8</td><td>04</td><td>⋯</td><td>0</td><td>1</td><td>0</td><td>0</td><td>0</td><td>0</td><td>0</td><td>0</td><td>0</td><td>0</td></tr>\n",
              "\t<tr><th scope=row>5</th><td>2014-05-01</td><td>15</td><td>28</td><td>236</td><td>50</td><td>205.9</td><td>154.5</td><td>164.6</td><td>125.2</td><td>05</td><td>⋯</td><td>0</td><td>0</td><td>1</td><td>0</td><td>0</td><td>0</td><td>0</td><td>0</td><td>0</td><td>0</td></tr>\n",
              "\t<tr><th scope=row>6</th><td>2014-06-01</td><td>16</td><td>28</td><td>242</td><td>48</td><td>208.8</td><td>158.7</td><td>169.0</td><td>123.6</td><td>06</td><td>⋯</td><td>0</td><td>0</td><td>0</td><td>1</td><td>0</td><td>0</td><td>0</td><td>0</td><td>0</td><td>0</td></tr>\n",
              "</tbody>\n",
              "</table>\n"
            ],
            "text/markdown": "\nA data.frame: 6 × 22\n\n| <!--/--> | Month &lt;date&gt; | Net_Gen_New.York &lt;int&gt; | Net_Gen_New.Jersey &lt;int&gt; | Net_Gen_California &lt;int&gt; | Net_Gen_Arizona &lt;int&gt; | Price_New.York &lt;dbl&gt; | Price_New.Jersey &lt;dbl&gt; | Price_California &lt;dbl&gt; | Price_Arizona &lt;dbl&gt; | monthonly &lt;chr&gt; | ⋯ ⋯ | monthonly03 &lt;dbl&gt; | monthonly04 &lt;dbl&gt; | monthonly05 &lt;dbl&gt; | monthonly06 &lt;dbl&gt; | monthonly07 &lt;dbl&gt; | monthonly08 &lt;dbl&gt; | monthonly09 &lt;dbl&gt; | monthonly10 &lt;dbl&gt; | monthonly11 &lt;dbl&gt; | monthonly12 &lt;dbl&gt; |\n|---|---|---|---|---|---|---|---|---|---|---|---|---|---|---|---|---|---|---|---|---|---|\n| 1 | 2014-01-01 |  7 | 16 | 126 | 34 | 195.7 | 152.2 | 165.7 | 108.3 | 01 | ⋯ | 0 | 0 | 0 | 0 | 0 | 0 | 0 | 0 | 0 | 0 |\n| 2 | 2014-02-01 |  8 | 18 | 131 | 33 | 216.9 | 156.3 | 161.1 | 111.3 | 02 | ⋯ | 0 | 0 | 0 | 0 | 0 | 0 | 0 | 0 | 0 | 0 |\n| 3 | 2014-03-01 | 11 | 24 | 191 | 43 | 209.0 | 158.8 | 158.6 | 112.2 | 03 | ⋯ | 1 | 0 | 0 | 0 | 0 | 0 | 0 | 0 | 0 | 0 |\n| 4 | 2014-04-01 | 13 | 25 | 210 | 46 | 195.4 | 156.9 | 101.2 | 118.8 | 04 | ⋯ | 0 | 1 | 0 | 0 | 0 | 0 | 0 | 0 | 0 | 0 |\n| 5 | 2014-05-01 | 15 | 28 | 236 | 50 | 205.9 | 154.5 | 164.6 | 125.2 | 05 | ⋯ | 0 | 0 | 1 | 0 | 0 | 0 | 0 | 0 | 0 | 0 |\n| 6 | 2014-06-01 | 16 | 28 | 242 | 48 | 208.8 | 158.7 | 169.0 | 123.6 | 06 | ⋯ | 0 | 0 | 0 | 1 | 0 | 0 | 0 | 0 | 0 | 0 |\n\n",
            "text/latex": "A data.frame: 6 × 22\n\\begin{tabular}{r|lllllllllllllllllllll}\n  & Month & Net\\_Gen\\_New.York & Net\\_Gen\\_New.Jersey & Net\\_Gen\\_California & Net\\_Gen\\_Arizona & Price\\_New.York & Price\\_New.Jersey & Price\\_California & Price\\_Arizona & monthonly & ⋯ & monthonly03 & monthonly04 & monthonly05 & monthonly06 & monthonly07 & monthonly08 & monthonly09 & monthonly10 & monthonly11 & monthonly12\\\\\n  & <date> & <int> & <int> & <int> & <int> & <dbl> & <dbl> & <dbl> & <dbl> & <chr> & ⋯ & <dbl> & <dbl> & <dbl> & <dbl> & <dbl> & <dbl> & <dbl> & <dbl> & <dbl> & <dbl>\\\\\n\\hline\n\t1 & 2014-01-01 &  7 & 16 & 126 & 34 & 195.7 & 152.2 & 165.7 & 108.3 & 01 & ⋯ & 0 & 0 & 0 & 0 & 0 & 0 & 0 & 0 & 0 & 0\\\\\n\t2 & 2014-02-01 &  8 & 18 & 131 & 33 & 216.9 & 156.3 & 161.1 & 111.3 & 02 & ⋯ & 0 & 0 & 0 & 0 & 0 & 0 & 0 & 0 & 0 & 0\\\\\n\t3 & 2014-03-01 & 11 & 24 & 191 & 43 & 209.0 & 158.8 & 158.6 & 112.2 & 03 & ⋯ & 1 & 0 & 0 & 0 & 0 & 0 & 0 & 0 & 0 & 0\\\\\n\t4 & 2014-04-01 & 13 & 25 & 210 & 46 & 195.4 & 156.9 & 101.2 & 118.8 & 04 & ⋯ & 0 & 1 & 0 & 0 & 0 & 0 & 0 & 0 & 0 & 0\\\\\n\t5 & 2014-05-01 & 15 & 28 & 236 & 50 & 205.9 & 154.5 & 164.6 & 125.2 & 05 & ⋯ & 0 & 0 & 1 & 0 & 0 & 0 & 0 & 0 & 0 & 0\\\\\n\t6 & 2014-06-01 & 16 & 28 & 242 & 48 & 208.8 & 158.7 & 169.0 & 123.6 & 06 & ⋯ & 0 & 0 & 0 & 1 & 0 & 0 & 0 & 0 & 0 & 0\\\\\n\\end{tabular}\n",
            "text/plain": [
              "  Month      Net_Gen_New.York Net_Gen_New.Jersey Net_Gen_California\n",
              "1 2014-01-01  7               16                 126               \n",
              "2 2014-02-01  8               18                 131               \n",
              "3 2014-03-01 11               24                 191               \n",
              "4 2014-04-01 13               25                 210               \n",
              "5 2014-05-01 15               28                 236               \n",
              "6 2014-06-01 16               28                 242               \n",
              "  Net_Gen_Arizona Price_New.York Price_New.Jersey Price_California\n",
              "1 34              195.7          152.2            165.7           \n",
              "2 33              216.9          156.3            161.1           \n",
              "3 43              209.0          158.8            158.6           \n",
              "4 46              195.4          156.9            101.2           \n",
              "5 50              205.9          154.5            164.6           \n",
              "6 48              208.8          158.7            169.0           \n",
              "  Price_Arizona monthonly ⋯ monthonly03 monthonly04 monthonly05 monthonly06\n",
              "1 108.3         01        ⋯ 0           0           0           0          \n",
              "2 111.3         02        ⋯ 0           0           0           0          \n",
              "3 112.2         03        ⋯ 1           0           0           0          \n",
              "4 118.8         04        ⋯ 0           1           0           0          \n",
              "5 125.2         05        ⋯ 0           0           1           0          \n",
              "6 123.6         06        ⋯ 0           0           0           1          \n",
              "  monthonly07 monthonly08 monthonly09 monthonly10 monthonly11 monthonly12\n",
              "1 0           0           0           0           0           0          \n",
              "2 0           0           0           0           0           0          \n",
              "3 0           0           0           0           0           0          \n",
              "4 0           0           0           0           0           0          \n",
              "5 0           0           0           0           0           0          \n",
              "6 0           0           0           0           0           0          "
            ]
          },
          "metadata": {}
        },
        {
          "output_type": "display_data",
          "data": {
            "text/plain": [
              "\n",
              "Call:\n",
              "lm(formula = Net_Gen_New.York ~ Price_New.York + monthonly02 + \n",
              "    monthonly03 + monthonly04 + monthonly05 + monthonly06 + monthonly07 + \n",
              "    monthonly08 + monthonly09 + monthonly10 + monthonly11 + monthonly12, \n",
              "    data = Gen_Price_Data_dummies)\n",
              "\n",
              "Residuals:\n",
              "   Min     1Q Median     3Q    Max \n",
              "-85.29 -19.44   5.60  24.30  50.36 \n",
              "\n",
              "Coefficients:\n",
              "               Estimate Std. Error t value Pr(>|t|)   \n",
              "(Intercept)    -81.5794    45.0153  -1.812  0.07311 . \n",
              "Price_New.York   0.6675     0.2372   2.814  0.00595 **\n",
              "monthonly02      4.2621    16.9163   0.252  0.80162   \n",
              "monthonly03     30.7048    16.8726   1.820  0.07194 . \n",
              "monthonly04     39.2891    16.8702   2.329  0.02198 * \n",
              "monthonly05     44.1198    16.9550   2.602  0.01075 * \n",
              "monthonly06     43.2196    17.0952   2.528  0.01311 * \n",
              "monthonly07     48.1613    17.0557   2.824  0.00578 **\n",
              "monthonly08     43.5417    16.9639   2.567  0.01183 * \n",
              "monthonly09     26.7369    17.1515   1.559  0.12235   \n",
              "monthonly10     11.5079    17.1242   0.672  0.50320   \n",
              "monthonly11     -0.8367    16.9831  -0.049  0.96081   \n",
              "monthonly12      0.2060    16.8748   0.012  0.99029   \n",
              "---\n",
              "Signif. codes:  0 ‘***’ 0.001 ‘**’ 0.01 ‘*’ 0.05 ‘.’ 0.1 ‘ ’ 1\n",
              "\n",
              "Residual standard error: 35.79 on 95 degrees of freedom\n",
              "Multiple R-squared:  0.3057,\tAdjusted R-squared:  0.218 \n",
              "F-statistic: 3.485 on 12 and 95 DF,  p-value: 0.0002789\n"
            ]
          },
          "metadata": {}
        },
        {
          "output_type": "display_data",
          "data": {
            "text/plain": [
              "\n",
              "Call:\n",
              "lm(formula = Net_Gen_New.Jersey ~ Price_New.Jersey + monthonly02 + \n",
              "    monthonly03 + monthonly04 + monthonly05 + monthonly06 + monthonly07 + \n",
              "    monthonly08 + monthonly09 + monthonly10 + monthonly11 + monthonly12, \n",
              "    data = Gen_Price_Data_dummies)\n",
              "\n",
              "Residuals:\n",
              "    Min      1Q  Median      3Q     Max \n",
              "-68.946 -17.641   3.632  19.800  54.026 \n",
              "\n",
              "Coefficients:\n",
              "                  Estimate Std. Error t value Pr(>|t|)    \n",
              "(Intercept)      -555.2988    96.4925  -5.755 1.06e-07 ***\n",
              "Price_New.Jersey    3.8052     0.6127   6.210 1.39e-08 ***\n",
              "monthonly02         2.8940    13.7859   0.210   0.8342    \n",
              "monthonly03        22.4899    13.8188   1.627   0.1069    \n",
              "monthonly04        24.9513    13.9241   1.792   0.0763 .  \n",
              "monthonly05        33.6641    13.8950   2.423   0.0173 *  \n",
              "monthonly06        32.6967    14.0394   2.329   0.0220 *  \n",
              "monthonly07        26.0087    14.3999   1.806   0.0741 .  \n",
              "monthonly08        23.8542    14.1609   1.685   0.0954 .  \n",
              "monthonly09        22.8990    13.8414   1.654   0.1013    \n",
              "monthonly10        24.3636    13.8003   1.765   0.0807 .  \n",
              "monthonly11        13.3961    13.7936   0.971   0.3339    \n",
              "monthonly12         1.5723    13.7679   0.114   0.9093    \n",
              "---\n",
              "Signif. codes:  0 ‘***’ 0.001 ‘**’ 0.01 ‘*’ 0.05 ‘.’ 0.1 ‘ ’ 1\n",
              "\n",
              "Residual standard error: 29.2 on 95 degrees of freedom\n",
              "Multiple R-squared:  0.4627,\tAdjusted R-squared:  0.3948 \n",
              "F-statistic: 6.818 on 12 and 95 DF,  p-value: 1.004e-08\n"
            ]
          },
          "metadata": {}
        },
        {
          "output_type": "display_data",
          "data": {
            "text/plain": [
              "\n",
              "Call:\n",
              "lm(formula = Net_Gen_California ~ Price_California + monthonly02 + \n",
              "    monthonly03 + monthonly04 + monthonly05 + monthonly06 + monthonly07 + \n",
              "    monthonly08 + monthonly09 + monthonly10 + monthonly11 + monthonly12, \n",
              "    data = Gen_Price_Data_dummies)\n",
              "\n",
              "Residuals:\n",
              "    Min      1Q  Median      3Q     Max \n",
              "-368.15  -83.56   -6.12   86.59  387.66 \n",
              "\n",
              "Coefficients:\n",
              "                   Estimate Std. Error t value Pr(>|t|)    \n",
              "(Intercept)      -1409.1777   102.0576 -13.808  < 2e-16 ***\n",
              "Price_California     9.5968     0.4623  20.760  < 2e-16 ***\n",
              "monthonly02        -22.6939    71.7277  -0.316 0.752401    \n",
              "monthonly03        190.7032    71.6885   2.660 0.009169 ** \n",
              "monthonly04        533.9133    72.4488   7.370 6.26e-11 ***\n",
              "monthonly05        359.5500    71.6803   5.016 2.45e-06 ***\n",
              "monthonly06        288.4618    71.8888   4.013 0.000120 ***\n",
              "monthonly07        342.4045    71.8020   4.769 6.68e-06 ***\n",
              "monthonly08        266.2628    71.9564   3.700 0.000361 ***\n",
              "monthonly09        175.8533    71.9486   2.444 0.016364 *  \n",
              "monthonly10        420.2052    72.1374   5.825 7.76e-08 ***\n",
              "monthonly11         11.4717    71.8507   0.160 0.873488    \n",
              "monthonly12          0.5660    71.7135   0.008 0.993719    \n",
              "---\n",
              "Signif. codes:  0 ‘***’ 0.001 ‘**’ 0.01 ‘*’ 0.05 ‘.’ 0.1 ‘ ’ 1\n",
              "\n",
              "Residual standard error: 152 on 95 degrees of freedom\n",
              "Multiple R-squared:  0.8495,\tAdjusted R-squared:  0.8305 \n",
              "F-statistic:  44.7 on 12 and 95 DF,  p-value: < 2.2e-16\n"
            ]
          },
          "metadata": {}
        },
        {
          "output_type": "display_data",
          "data": {
            "text/plain": [
              "\n",
              "Call:\n",
              "lm(formula = Net_Gen_Arizona ~ Price_Arizona + monthonly02 + \n",
              "    monthonly03 + monthonly04 + monthonly05 + monthonly06 + monthonly07 + \n",
              "    monthonly08 + monthonly09 + monthonly10 + monthonly11 + monthonly12, \n",
              "    data = Gen_Price_Data_dummies)\n",
              "\n",
              "Residuals:\n",
              "    Min      1Q  Median      3Q     Max \n",
              "-84.839 -38.452  -4.339  38.980 102.690 \n",
              "\n",
              "Coefficients:\n",
              "              Estimate Std. Error t value Pr(>|t|)    \n",
              "(Intercept)   -977.949    132.954  -7.356 6.69e-11 ***\n",
              "Price_Arizona    9.306      1.143   8.141 1.52e-12 ***\n",
              "monthonly02    -20.923     24.219  -0.864   0.3898    \n",
              "monthonly03     -3.121     24.431  -0.128   0.8986    \n",
              "monthonly04    -43.110     26.628  -1.619   0.1088    \n",
              "monthonly05    -66.001     28.904  -2.283   0.0246 *  \n",
              "monthonly06    -51.010     27.551  -1.852   0.0672 .  \n",
              "monthonly07    -58.222     27.470  -2.119   0.0367 *  \n",
              "monthonly08    -50.104     26.875  -1.864   0.0654 .  \n",
              "monthonly09    -68.203     27.396  -2.490   0.0145 *  \n",
              "monthonly10    -59.332     26.628  -2.228   0.0282 *  \n",
              "monthonly11    -21.254     24.494  -0.868   0.3877    \n",
              "monthonly12    -10.771     24.159  -0.446   0.6567    \n",
              "---\n",
              "Signif. codes:  0 ‘***’ 0.001 ‘**’ 0.01 ‘*’ 0.05 ‘.’ 0.1 ‘ ’ 1\n",
              "\n",
              "Residual standard error: 50.91 on 95 degrees of freedom\n",
              "Multiple R-squared:  0.4691,\tAdjusted R-squared:  0.402 \n",
              "F-statistic: 6.995 on 12 and 95 DF,  p-value: 6.067e-09\n"
            ]
          },
          "metadata": {}
        }
      ]
    },
    {
      "cell_type": "code",
      "source": [],
      "metadata": {
        "id": "nGnSk-ipyJc-"
      },
      "execution_count": null,
      "outputs": []
    }
  ]
}